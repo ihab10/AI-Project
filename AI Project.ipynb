{
 "cells": [
  {
   "cell_type": "markdown",
   "metadata": {},
   "source": [
    "# Company Bankruptcy Prediction"
   ]
  },
  {
   "cell_type": "code",
   "execution_count": 2,
   "metadata": {},
   "outputs": [],
   "source": [
    "import numpy as np # linear algebra\n",
    "import pandas as pd # data processing, CSV file\n",
    "#we import whats requir# Company Bankruptcy Predictioned for ploting\n",
    "import matplotlib.pyplot as plt\n",
    "import seaborn as sns\n",
    "%matplotlib inline"
   ]
  },
  {
   "cell_type": "markdown",
   "metadata": {},
   "source": [
    "## Explore the data"
   ]
  },
  {
   "cell_type": "code",
   "execution_count": 4,
   "metadata": {},
   "outputs": [
    {
     "data": {
      "text/html": [
       "<div>\n",
       "<style scoped>\n",
       "    .dataframe tbody tr th:only-of-type {\n",
       "        vertical-align: middle;\n",
       "    }\n",
       "\n",
       "    .dataframe tbody tr th {\n",
       "        vertical-align: top;\n",
       "    }\n",
       "\n",
       "    .dataframe thead th {\n",
       "        text-align: right;\n",
       "    }\n",
       "</style>\n",
       "<table border=\"1\" class=\"dataframe\">\n",
       "  <thead>\n",
       "    <tr style=\"text-align: right;\">\n",
       "      <th></th>\n",
       "      <th>Bankrupt?</th>\n",
       "      <th>ROA(C) before interest and depreciation before interest</th>\n",
       "      <th>ROA(A) before interest and % after tax</th>\n",
       "      <th>ROA(B) before interest and depreciation after tax</th>\n",
       "      <th>Operating Gross Margin</th>\n",
       "      <th>Realized Sales Gross Margin</th>\n",
       "      <th>Operating Profit Rate</th>\n",
       "      <th>Pre-tax net Interest Rate</th>\n",
       "      <th>After-tax net Interest Rate</th>\n",
       "      <th>Non-industry income and expenditure/revenue</th>\n",
       "      <th>...</th>\n",
       "      <th>Net Income to Total Assets</th>\n",
       "      <th>Total assets to GNP price</th>\n",
       "      <th>No-credit Interval</th>\n",
       "      <th>Gross Profit to Sales</th>\n",
       "      <th>Net Income to Stockholder's Equity</th>\n",
       "      <th>Liability to Equity</th>\n",
       "      <th>Degree of Financial Leverage (DFL)</th>\n",
       "      <th>Interest Coverage Ratio (Interest expense to EBIT)</th>\n",
       "      <th>Net Income Flag</th>\n",
       "      <th>Equity to Liability</th>\n",
       "    </tr>\n",
       "  </thead>\n",
       "  <tbody>\n",
       "    <tr>\n",
       "      <th>0</th>\n",
       "      <td>1</td>\n",
       "      <td>0.370594</td>\n",
       "      <td>0.424389</td>\n",
       "      <td>0.405750</td>\n",
       "      <td>0.601457</td>\n",
       "      <td>0.601457</td>\n",
       "      <td>0.998969</td>\n",
       "      <td>0.796887</td>\n",
       "      <td>0.808809</td>\n",
       "      <td>0.302646</td>\n",
       "      <td>...</td>\n",
       "      <td>0.716845</td>\n",
       "      <td>0.009219</td>\n",
       "      <td>0.622879</td>\n",
       "      <td>0.601453</td>\n",
       "      <td>0.827890</td>\n",
       "      <td>0.290202</td>\n",
       "      <td>0.026601</td>\n",
       "      <td>0.564050</td>\n",
       "      <td>1</td>\n",
       "      <td>0.016469</td>\n",
       "    </tr>\n",
       "    <tr>\n",
       "      <th>1</th>\n",
       "      <td>1</td>\n",
       "      <td>0.464291</td>\n",
       "      <td>0.538214</td>\n",
       "      <td>0.516730</td>\n",
       "      <td>0.610235</td>\n",
       "      <td>0.610235</td>\n",
       "      <td>0.998946</td>\n",
       "      <td>0.797380</td>\n",
       "      <td>0.809301</td>\n",
       "      <td>0.303556</td>\n",
       "      <td>...</td>\n",
       "      <td>0.795297</td>\n",
       "      <td>0.008323</td>\n",
       "      <td>0.623652</td>\n",
       "      <td>0.610237</td>\n",
       "      <td>0.839969</td>\n",
       "      <td>0.283846</td>\n",
       "      <td>0.264577</td>\n",
       "      <td>0.570175</td>\n",
       "      <td>1</td>\n",
       "      <td>0.020794</td>\n",
       "    </tr>\n",
       "    <tr>\n",
       "      <th>2</th>\n",
       "      <td>1</td>\n",
       "      <td>0.426071</td>\n",
       "      <td>0.499019</td>\n",
       "      <td>0.472295</td>\n",
       "      <td>0.601450</td>\n",
       "      <td>0.601364</td>\n",
       "      <td>0.998857</td>\n",
       "      <td>0.796403</td>\n",
       "      <td>0.808388</td>\n",
       "      <td>0.302035</td>\n",
       "      <td>...</td>\n",
       "      <td>0.774670</td>\n",
       "      <td>0.040003</td>\n",
       "      <td>0.623841</td>\n",
       "      <td>0.601449</td>\n",
       "      <td>0.836774</td>\n",
       "      <td>0.290189</td>\n",
       "      <td>0.026555</td>\n",
       "      <td>0.563706</td>\n",
       "      <td>1</td>\n",
       "      <td>0.016474</td>\n",
       "    </tr>\n",
       "    <tr>\n",
       "      <th>3</th>\n",
       "      <td>1</td>\n",
       "      <td>0.399844</td>\n",
       "      <td>0.451265</td>\n",
       "      <td>0.457733</td>\n",
       "      <td>0.583541</td>\n",
       "      <td>0.583541</td>\n",
       "      <td>0.998700</td>\n",
       "      <td>0.796967</td>\n",
       "      <td>0.808966</td>\n",
       "      <td>0.303350</td>\n",
       "      <td>...</td>\n",
       "      <td>0.739555</td>\n",
       "      <td>0.003252</td>\n",
       "      <td>0.622929</td>\n",
       "      <td>0.583538</td>\n",
       "      <td>0.834697</td>\n",
       "      <td>0.281721</td>\n",
       "      <td>0.026697</td>\n",
       "      <td>0.564663</td>\n",
       "      <td>1</td>\n",
       "      <td>0.023982</td>\n",
       "    </tr>\n",
       "    <tr>\n",
       "      <th>4</th>\n",
       "      <td>1</td>\n",
       "      <td>0.465022</td>\n",
       "      <td>0.538432</td>\n",
       "      <td>0.522298</td>\n",
       "      <td>0.598783</td>\n",
       "      <td>0.598783</td>\n",
       "      <td>0.998973</td>\n",
       "      <td>0.797366</td>\n",
       "      <td>0.809304</td>\n",
       "      <td>0.303475</td>\n",
       "      <td>...</td>\n",
       "      <td>0.795016</td>\n",
       "      <td>0.003878</td>\n",
       "      <td>0.623521</td>\n",
       "      <td>0.598782</td>\n",
       "      <td>0.839973</td>\n",
       "      <td>0.278514</td>\n",
       "      <td>0.024752</td>\n",
       "      <td>0.575617</td>\n",
       "      <td>1</td>\n",
       "      <td>0.035490</td>\n",
       "    </tr>\n",
       "  </tbody>\n",
       "</table>\n",
       "<p>5 rows × 96 columns</p>\n",
       "</div>"
      ],
      "text/plain": [
       "   Bankrupt?   ROA(C) before interest and depreciation before interest  \\\n",
       "0          1                                           0.370594          \n",
       "1          1                                           0.464291          \n",
       "2          1                                           0.426071          \n",
       "3          1                                           0.399844          \n",
       "4          1                                           0.465022          \n",
       "\n",
       "    ROA(A) before interest and % after tax  \\\n",
       "0                                 0.424389   \n",
       "1                                 0.538214   \n",
       "2                                 0.499019   \n",
       "3                                 0.451265   \n",
       "4                                 0.538432   \n",
       "\n",
       "    ROA(B) before interest and depreciation after tax  \\\n",
       "0                                           0.405750    \n",
       "1                                           0.516730    \n",
       "2                                           0.472295    \n",
       "3                                           0.457733    \n",
       "4                                           0.522298    \n",
       "\n",
       "    Operating Gross Margin   Realized Sales Gross Margin  \\\n",
       "0                 0.601457                      0.601457   \n",
       "1                 0.610235                      0.610235   \n",
       "2                 0.601450                      0.601364   \n",
       "3                 0.583541                      0.583541   \n",
       "4                 0.598783                      0.598783   \n",
       "\n",
       "    Operating Profit Rate   Pre-tax net Interest Rate  \\\n",
       "0                0.998969                    0.796887   \n",
       "1                0.998946                    0.797380   \n",
       "2                0.998857                    0.796403   \n",
       "3                0.998700                    0.796967   \n",
       "4                0.998973                    0.797366   \n",
       "\n",
       "    After-tax net Interest Rate   Non-industry income and expenditure/revenue  \\\n",
       "0                      0.808809                                      0.302646   \n",
       "1                      0.809301                                      0.303556   \n",
       "2                      0.808388                                      0.302035   \n",
       "3                      0.808966                                      0.303350   \n",
       "4                      0.809304                                      0.303475   \n",
       "\n",
       "   ...   Net Income to Total Assets   Total assets to GNP price  \\\n",
       "0  ...                     0.716845                    0.009219   \n",
       "1  ...                     0.795297                    0.008323   \n",
       "2  ...                     0.774670                    0.040003   \n",
       "3  ...                     0.739555                    0.003252   \n",
       "4  ...                     0.795016                    0.003878   \n",
       "\n",
       "    No-credit Interval   Gross Profit to Sales  \\\n",
       "0             0.622879                0.601453   \n",
       "1             0.623652                0.610237   \n",
       "2             0.623841                0.601449   \n",
       "3             0.622929                0.583538   \n",
       "4             0.623521                0.598782   \n",
       "\n",
       "    Net Income to Stockholder's Equity   Liability to Equity  \\\n",
       "0                             0.827890              0.290202   \n",
       "1                             0.839969              0.283846   \n",
       "2                             0.836774              0.290189   \n",
       "3                             0.834697              0.281721   \n",
       "4                             0.839973              0.278514   \n",
       "\n",
       "    Degree of Financial Leverage (DFL)  \\\n",
       "0                             0.026601   \n",
       "1                             0.264577   \n",
       "2                             0.026555   \n",
       "3                             0.026697   \n",
       "4                             0.024752   \n",
       "\n",
       "    Interest Coverage Ratio (Interest expense to EBIT)   Net Income Flag  \\\n",
       "0                                           0.564050                   1   \n",
       "1                                           0.570175                   1   \n",
       "2                                           0.563706                   1   \n",
       "3                                           0.564663                   1   \n",
       "4                                           0.575617                   1   \n",
       "\n",
       "    Equity to Liability  \n",
       "0              0.016469  \n",
       "1              0.020794  \n",
       "2              0.016474  \n",
       "3              0.023982  \n",
       "4              0.035490  \n",
       "\n",
       "[5 rows x 96 columns]"
      ]
     },
     "execution_count": 4,
     "metadata": {},
     "output_type": "execute_result"
    }
   ],
   "source": [
    "#Explore the data\n",
    "df = pd.read_csv('./data.csv') #\n",
    "df.head()"
   ]
  },
  {
   "cell_type": "markdown",
   "metadata": {},
   "source": [
    "### Data cleaning"
   ]
  },
  {
   "cell_type": "markdown",
   "metadata": {},
   "source": [
    "We check if theres any missing values or duplicates in the data"
   ]
  },
  {
   "cell_type": "code",
   "execution_count": 6,
   "metadata": {},
   "outputs": [
    {
     "data": {
      "text/plain": [
       "Bankrupt?                                                   0\n",
       " ROA(C) before interest and depreciation before interest    0\n",
       " ROA(A) before interest and % after tax                     0\n",
       " ROA(B) before interest and depreciation after tax          0\n",
       " Operating Gross Margin                                     0\n",
       "                                                           ..\n",
       " Liability to Equity                                        0\n",
       " Degree of Financial Leverage (DFL)                         0\n",
       " Interest Coverage Ratio (Interest expense to EBIT)         0\n",
       " Net Income Flag                                            0\n",
       " Equity to Liability                                        0\n",
       "Length: 96, dtype: int64"
      ]
     },
     "execution_count": 6,
     "metadata": {},
     "output_type": "execute_result"
    }
   ],
   "source": [
    "### Data cleaning\n",
    "\n",
    "#We check if theres any missing values or duplicates in the data\n",
    "df.isnull().sum()"
   ]
  },
  {
   "cell_type": "markdown",
   "metadata": {},
   "source": [
    "###### We cant see all the values so we compute the sum of them all to double check"
   ]
  },
  {
   "cell_type": "code",
   "execution_count": 7,
   "metadata": {},
   "outputs": [
    {
     "data": {
      "text/plain": [
       "0"
      ]
     },
     "execution_count": 7,
     "metadata": {},
     "output_type": "execute_result"
    }
   ],
   "source": [
    "###### We cant see all the values so we compute the sum of them all to double check\n",
    "df.isnull().sum().sum()"
   ]
  },
  {
   "cell_type": "code",
   "execution_count": 101,
   "metadata": {},
   "outputs": [
    {
     "data": {
      "text/plain": [
       "0       False\n",
       "1       False\n",
       "2       False\n",
       "3       False\n",
       "4       False\n",
       "        ...  \n",
       "6814    False\n",
       "6815    False\n",
       "6816    False\n",
       "6817    False\n",
       "6818    False\n",
       "Length: 6819, dtype: bool"
      ]
     },
     "execution_count": 101,
     "metadata": {},
     "output_type": "execute_result"
    }
   ],
   "source": [
    "df.duplicated()"
   ]
  },
  {
   "cell_type": "code",
   "execution_count": 8,
   "metadata": {},
   "outputs": [
    {
     "data": {
      "text/plain": [
       "0"
      ]
     },
     "execution_count": 8,
     "metadata": {},
     "output_type": "execute_result"
    }
   ],
   "source": [
    "df.duplicated().sum()"
   ]
  },
  {
   "cell_type": "markdown",
   "metadata": {},
   "source": [
    "###### There is no duplicates or null values in the dataset. Now lets check the datatype of the attributes"
   ]
  },
  {
   "cell_type": "code",
   "execution_count": 9,
   "metadata": {
    "scrolled": true
   },
   "outputs": [
    {
     "name": "stdout",
     "output_type": "stream",
     "text": [
      "<class 'pandas.core.frame.DataFrame'>\n",
      "RangeIndex: 6819 entries, 0 to 6818\n",
      "Data columns (total 96 columns):\n",
      " #   Column                                                    Non-Null Count  Dtype  \n",
      "---  ------                                                    --------------  -----  \n",
      " 0   Bankrupt?                                                 6819 non-null   int64  \n",
      " 1    ROA(C) before interest and depreciation before interest  6819 non-null   float64\n",
      " 2    ROA(A) before interest and % after tax                   6819 non-null   float64\n",
      " 3    ROA(B) before interest and depreciation after tax        6819 non-null   float64\n",
      " 4    Operating Gross Margin                                   6819 non-null   float64\n",
      " 5    Realized Sales Gross Margin                              6819 non-null   float64\n",
      " 6    Operating Profit Rate                                    6819 non-null   float64\n",
      " 7    Pre-tax net Interest Rate                                6819 non-null   float64\n",
      " 8    After-tax net Interest Rate                              6819 non-null   float64\n",
      " 9    Non-industry income and expenditure/revenue              6819 non-null   float64\n",
      " 10   Continuous interest rate (after tax)                     6819 non-null   float64\n",
      " 11   Operating Expense Rate                                   6819 non-null   float64\n",
      " 12   Research and development expense rate                    6819 non-null   float64\n",
      " 13   Cash flow rate                                           6819 non-null   float64\n",
      " 14   Interest-bearing debt interest rate                      6819 non-null   float64\n",
      " 15   Tax rate (A)                                             6819 non-null   float64\n",
      " 16   Net Value Per Share (B)                                  6819 non-null   float64\n",
      " 17   Net Value Per Share (A)                                  6819 non-null   float64\n",
      " 18   Net Value Per Share (C)                                  6819 non-null   float64\n",
      " 19   Persistent EPS in the Last Four Seasons                  6819 non-null   float64\n",
      " 20   Cash Flow Per Share                                      6819 non-null   float64\n",
      " 21   Revenue Per Share (Yuan ¥)                               6819 non-null   float64\n",
      " 22   Operating Profit Per Share (Yuan ¥)                      6819 non-null   float64\n",
      " 23   Per Share Net profit before tax (Yuan ¥)                 6819 non-null   float64\n",
      " 24   Realized Sales Gross Profit Growth Rate                  6819 non-null   float64\n",
      " 25   Operating Profit Growth Rate                             6819 non-null   float64\n",
      " 26   After-tax Net Profit Growth Rate                         6819 non-null   float64\n",
      " 27   Regular Net Profit Growth Rate                           6819 non-null   float64\n",
      " 28   Continuous Net Profit Growth Rate                        6819 non-null   float64\n",
      " 29   Total Asset Growth Rate                                  6819 non-null   float64\n",
      " 30   Net Value Growth Rate                                    6819 non-null   float64\n",
      " 31   Total Asset Return Growth Rate Ratio                     6819 non-null   float64\n",
      " 32   Cash Reinvestment %                                      6819 non-null   float64\n",
      " 33   Current Ratio                                            6819 non-null   float64\n",
      " 34   Quick Ratio                                              6819 non-null   float64\n",
      " 35   Interest Expense Ratio                                   6819 non-null   float64\n",
      " 36   Total debt/Total net worth                               6819 non-null   float64\n",
      " 37   Debt ratio %                                             6819 non-null   float64\n",
      " 38   Net worth/Assets                                         6819 non-null   float64\n",
      " 39   Long-term fund suitability ratio (A)                     6819 non-null   float64\n",
      " 40   Borrowing dependency                                     6819 non-null   float64\n",
      " 41   Contingent liabilities/Net worth                         6819 non-null   float64\n",
      " 42   Operating profit/Paid-in capital                         6819 non-null   float64\n",
      " 43   Net profit before tax/Paid-in capital                    6819 non-null   float64\n",
      " 44   Inventory and accounts receivable/Net value              6819 non-null   float64\n",
      " 45   Total Asset Turnover                                     6819 non-null   float64\n",
      " 46   Accounts Receivable Turnover                             6819 non-null   float64\n",
      " 47   Average Collection Days                                  6819 non-null   float64\n",
      " 48   Inventory Turnover Rate (times)                          6819 non-null   float64\n",
      " 49   Fixed Assets Turnover Frequency                          6819 non-null   float64\n",
      " 50   Net Worth Turnover Rate (times)                          6819 non-null   float64\n",
      " 51   Revenue per person                                       6819 non-null   float64\n",
      " 52   Operating profit per person                              6819 non-null   float64\n",
      " 53   Allocation rate per person                               6819 non-null   float64\n",
      " 54   Working Capital to Total Assets                          6819 non-null   float64\n",
      " 55   Quick Assets/Total Assets                                6819 non-null   float64\n",
      " 56   Current Assets/Total Assets                              6819 non-null   float64\n",
      " 57   Cash/Total Assets                                        6819 non-null   float64\n",
      " 58   Quick Assets/Current Liability                           6819 non-null   float64\n",
      " 59   Cash/Current Liability                                   6819 non-null   float64\n",
      " 60   Current Liability to Assets                              6819 non-null   float64\n",
      " 61   Operating Funds to Liability                             6819 non-null   float64\n",
      " 62   Inventory/Working Capital                                6819 non-null   float64\n",
      " 63   Inventory/Current Liability                              6819 non-null   float64\n",
      " 64   Current Liabilities/Liability                            6819 non-null   float64\n",
      " 65   Working Capital/Equity                                   6819 non-null   float64\n",
      " 66   Current Liabilities/Equity                               6819 non-null   float64\n",
      " 67   Long-term Liability to Current Assets                    6819 non-null   float64\n",
      " 68   Retained Earnings to Total Assets                        6819 non-null   float64\n",
      " 69   Total income/Total expense                               6819 non-null   float64\n",
      " 70   Total expense/Assets                                     6819 non-null   float64\n",
      " 71   Current Asset Turnover Rate                              6819 non-null   float64\n",
      " 72   Quick Asset Turnover Rate                                6819 non-null   float64\n",
      " 73   Working capitcal Turnover Rate                           6819 non-null   float64\n",
      " 74   Cash Turnover Rate                                       6819 non-null   float64\n",
      " 75   Cash Flow to Sales                                       6819 non-null   float64\n",
      " 76   Fixed Assets to Assets                                   6819 non-null   float64\n",
      " 77   Current Liability to Liability                           6819 non-null   float64\n",
      " 78   Current Liability to Equity                              6819 non-null   float64\n",
      " 79   Equity to Long-term Liability                            6819 non-null   float64\n",
      " 80   Cash Flow to Total Assets                                6819 non-null   float64\n",
      " 81   Cash Flow to Liability                                   6819 non-null   float64\n",
      " 82   CFO to Assets                                            6819 non-null   float64\n",
      " 83   Cash Flow to Equity                                      6819 non-null   float64\n",
      " 84   Current Liability to Current Assets                      6819 non-null   float64\n",
      " 85   Liability-Assets Flag                                    6819 non-null   int64  \n",
      " 86   Net Income to Total Assets                               6819 non-null   float64\n",
      " 87   Total assets to GNP price                                6819 non-null   float64\n",
      " 88   No-credit Interval                                       6819 non-null   float64\n",
      " 89   Gross Profit to Sales                                    6819 non-null   float64\n",
      " 90   Net Income to Stockholder's Equity                       6819 non-null   float64\n",
      " 91   Liability to Equity                                      6819 non-null   float64\n",
      " 92   Degree of Financial Leverage (DFL)                       6819 non-null   float64\n",
      " 93   Interest Coverage Ratio (Interest expense to EBIT)       6819 non-null   float64\n",
      " 94   Net Income Flag                                          6819 non-null   int64  \n",
      " 95   Equity to Liability                                      6819 non-null   float64\n",
      "dtypes: float64(93), int64(3)\n",
      "memory usage: 5.0 MB\n"
     ]
    }
   ],
   "source": [
    "df.info()"
   ]
  },
  {
   "cell_type": "markdown",
   "metadata": {},
   "source": [
    "### Scaling the data"
   ]
  },
  {
   "cell_type": "code",
   "execution_count": 10,
   "metadata": {},
   "outputs": [
    {
     "data": {
      "text/html": [
       "<div>\n",
       "<style scoped>\n",
       "    .dataframe tbody tr th:only-of-type {\n",
       "        vertical-align: middle;\n",
       "    }\n",
       "\n",
       "    .dataframe tbody tr th {\n",
       "        vertical-align: top;\n",
       "    }\n",
       "\n",
       "    .dataframe thead th {\n",
       "        text-align: right;\n",
       "    }\n",
       "</style>\n",
       "<table border=\"1\" class=\"dataframe\">\n",
       "  <thead>\n",
       "    <tr style=\"text-align: right;\">\n",
       "      <th></th>\n",
       "      <th>count</th>\n",
       "      <th>mean</th>\n",
       "      <th>std</th>\n",
       "      <th>min</th>\n",
       "      <th>25%</th>\n",
       "      <th>50%</th>\n",
       "      <th>75%</th>\n",
       "      <th>max</th>\n",
       "    </tr>\n",
       "  </thead>\n",
       "  <tbody>\n",
       "    <tr>\n",
       "      <th>Bankrupt?</th>\n",
       "      <td>6819.0</td>\n",
       "      <td>0.032263</td>\n",
       "      <td>0.176710</td>\n",
       "      <td>0.0</td>\n",
       "      <td>0.000000</td>\n",
       "      <td>0.000000</td>\n",
       "      <td>0.000000</td>\n",
       "      <td>1.0</td>\n",
       "    </tr>\n",
       "    <tr>\n",
       "      <th>ROA(C) before interest and depreciation before interest</th>\n",
       "      <td>6819.0</td>\n",
       "      <td>0.505180</td>\n",
       "      <td>0.060686</td>\n",
       "      <td>0.0</td>\n",
       "      <td>0.476527</td>\n",
       "      <td>0.502706</td>\n",
       "      <td>0.535563</td>\n",
       "      <td>1.0</td>\n",
       "    </tr>\n",
       "    <tr>\n",
       "      <th>ROA(A) before interest and % after tax</th>\n",
       "      <td>6819.0</td>\n",
       "      <td>0.558625</td>\n",
       "      <td>0.065620</td>\n",
       "      <td>0.0</td>\n",
       "      <td>0.535543</td>\n",
       "      <td>0.559802</td>\n",
       "      <td>0.589157</td>\n",
       "      <td>1.0</td>\n",
       "    </tr>\n",
       "    <tr>\n",
       "      <th>ROA(B) before interest and depreciation after tax</th>\n",
       "      <td>6819.0</td>\n",
       "      <td>0.553589</td>\n",
       "      <td>0.061595</td>\n",
       "      <td>0.0</td>\n",
       "      <td>0.527277</td>\n",
       "      <td>0.552278</td>\n",
       "      <td>0.584105</td>\n",
       "      <td>1.0</td>\n",
       "    </tr>\n",
       "    <tr>\n",
       "      <th>Operating Gross Margin</th>\n",
       "      <td>6819.0</td>\n",
       "      <td>0.607948</td>\n",
       "      <td>0.016934</td>\n",
       "      <td>0.0</td>\n",
       "      <td>0.600445</td>\n",
       "      <td>0.605997</td>\n",
       "      <td>0.613914</td>\n",
       "      <td>1.0</td>\n",
       "    </tr>\n",
       "    <tr>\n",
       "      <th>...</th>\n",
       "      <td>...</td>\n",
       "      <td>...</td>\n",
       "      <td>...</td>\n",
       "      <td>...</td>\n",
       "      <td>...</td>\n",
       "      <td>...</td>\n",
       "      <td>...</td>\n",
       "      <td>...</td>\n",
       "    </tr>\n",
       "    <tr>\n",
       "      <th>Liability to Equity</th>\n",
       "      <td>6819.0</td>\n",
       "      <td>0.280365</td>\n",
       "      <td>0.014463</td>\n",
       "      <td>0.0</td>\n",
       "      <td>0.276944</td>\n",
       "      <td>0.278778</td>\n",
       "      <td>0.281449</td>\n",
       "      <td>1.0</td>\n",
       "    </tr>\n",
       "    <tr>\n",
       "      <th>Degree of Financial Leverage (DFL)</th>\n",
       "      <td>6819.0</td>\n",
       "      <td>0.027541</td>\n",
       "      <td>0.015668</td>\n",
       "      <td>0.0</td>\n",
       "      <td>0.026791</td>\n",
       "      <td>0.026808</td>\n",
       "      <td>0.026913</td>\n",
       "      <td>1.0</td>\n",
       "    </tr>\n",
       "    <tr>\n",
       "      <th>Interest Coverage Ratio (Interest expense to EBIT)</th>\n",
       "      <td>6819.0</td>\n",
       "      <td>0.565358</td>\n",
       "      <td>0.013214</td>\n",
       "      <td>0.0</td>\n",
       "      <td>0.565158</td>\n",
       "      <td>0.565252</td>\n",
       "      <td>0.565725</td>\n",
       "      <td>1.0</td>\n",
       "    </tr>\n",
       "    <tr>\n",
       "      <th>Net Income Flag</th>\n",
       "      <td>6819.0</td>\n",
       "      <td>1.000000</td>\n",
       "      <td>0.000000</td>\n",
       "      <td>1.0</td>\n",
       "      <td>1.000000</td>\n",
       "      <td>1.000000</td>\n",
       "      <td>1.000000</td>\n",
       "      <td>1.0</td>\n",
       "    </tr>\n",
       "    <tr>\n",
       "      <th>Equity to Liability</th>\n",
       "      <td>6819.0</td>\n",
       "      <td>0.047578</td>\n",
       "      <td>0.050014</td>\n",
       "      <td>0.0</td>\n",
       "      <td>0.024477</td>\n",
       "      <td>0.033798</td>\n",
       "      <td>0.052838</td>\n",
       "      <td>1.0</td>\n",
       "    </tr>\n",
       "  </tbody>\n",
       "</table>\n",
       "<p>96 rows × 8 columns</p>\n",
       "</div>"
      ],
      "text/plain": [
       "                                                     count      mean  \\\n",
       "Bankrupt?                                           6819.0  0.032263   \n",
       " ROA(C) before interest and depreciation before...  6819.0  0.505180   \n",
       " ROA(A) before interest and % after tax             6819.0  0.558625   \n",
       " ROA(B) before interest and depreciation after tax  6819.0  0.553589   \n",
       " Operating Gross Margin                             6819.0  0.607948   \n",
       "...                                                    ...       ...   \n",
       " Liability to Equity                                6819.0  0.280365   \n",
       " Degree of Financial Leverage (DFL)                 6819.0  0.027541   \n",
       " Interest Coverage Ratio (Interest expense to E...  6819.0  0.565358   \n",
       " Net Income Flag                                    6819.0  1.000000   \n",
       " Equity to Liability                                6819.0  0.047578   \n",
       "\n",
       "                                                         std  min       25%  \\\n",
       "Bankrupt?                                           0.176710  0.0  0.000000   \n",
       " ROA(C) before interest and depreciation before...  0.060686  0.0  0.476527   \n",
       " ROA(A) before interest and % after tax             0.065620  0.0  0.535543   \n",
       " ROA(B) before interest and depreciation after tax  0.061595  0.0  0.527277   \n",
       " Operating Gross Margin                             0.016934  0.0  0.600445   \n",
       "...                                                      ...  ...       ...   \n",
       " Liability to Equity                                0.014463  0.0  0.276944   \n",
       " Degree of Financial Leverage (DFL)                 0.015668  0.0  0.026791   \n",
       " Interest Coverage Ratio (Interest expense to E...  0.013214  0.0  0.565158   \n",
       " Net Income Flag                                    0.000000  1.0  1.000000   \n",
       " Equity to Liability                                0.050014  0.0  0.024477   \n",
       "\n",
       "                                                         50%       75%  max  \n",
       "Bankrupt?                                           0.000000  0.000000  1.0  \n",
       " ROA(C) before interest and depreciation before...  0.502706  0.535563  1.0  \n",
       " ROA(A) before interest and % after tax             0.559802  0.589157  1.0  \n",
       " ROA(B) before interest and depreciation after tax  0.552278  0.584105  1.0  \n",
       " Operating Gross Margin                             0.605997  0.613914  1.0  \n",
       "...                                                      ...       ...  ...  \n",
       " Liability to Equity                                0.278778  0.281449  1.0  \n",
       " Degree of Financial Leverage (DFL)                 0.026808  0.026913  1.0  \n",
       " Interest Coverage Ratio (Interest expense to E...  0.565252  0.565725  1.0  \n",
       " Net Income Flag                                    1.000000  1.000000  1.0  \n",
       " Equity to Liability                                0.033798  0.052838  1.0  \n",
       "\n",
       "[96 rows x 8 columns]"
      ]
     },
     "execution_count": 10,
     "metadata": {},
     "output_type": "execute_result"
    }
   ],
   "source": [
    "df.describe().T"
   ]
  },
  {
   "cell_type": "markdown",
   "metadata": {},
   "source": [
    "Data looks scaled between 1 and 0. However we should check anyways"
   ]
  },
  {
   "cell_type": "code",
   "execution_count": 14,
   "metadata": {},
   "outputs": [
    {
     "name": "stdout",
     "output_type": "stream",
     "text": [
      "column : Bankrupt?\n",
      "column : Bankrupt?\n",
      "max :  1\n",
      "min :  0\n",
      "___________________________________________________________________________\n",
      "column :  ROA(C) before interest and depreciation before interest\n",
      "column :  ROA(C) before interest and depreciation before interest\n",
      "max :  1.0\n",
      "min :  0.0\n",
      "___________________________________________________________________________\n",
      "column :  ROA(A) before interest and % after tax\n",
      "column :  ROA(A) before interest and % after tax\n",
      "max :  1.0\n",
      "min :  0.0\n",
      "___________________________________________________________________________\n",
      "column :  ROA(B) before interest and depreciation after tax\n",
      "column :  ROA(B) before interest and depreciation after tax\n",
      "max :  1.0\n",
      "min :  0.0\n",
      "___________________________________________________________________________\n",
      "column :  Operating Gross Margin\n",
      "column :  Operating Gross Margin\n",
      "max :  1.0\n",
      "min :  0.0\n",
      "___________________________________________________________________________\n",
      "column :  Realized Sales Gross Margin\n",
      "column :  Realized Sales Gross Margin\n",
      "max :  1.0\n",
      "min :  0.0\n",
      "___________________________________________________________________________\n",
      "column :  Operating Profit Rate\n",
      "column :  Operating Profit Rate\n",
      "max :  1.0\n",
      "min :  0.0\n",
      "___________________________________________________________________________\n",
      "column :  Pre-tax net Interest Rate\n",
      "column :  Pre-tax net Interest Rate\n",
      "max :  1.0\n",
      "min :  0.0\n",
      "___________________________________________________________________________\n",
      "column :  After-tax net Interest Rate\n",
      "column :  After-tax net Interest Rate\n",
      "max :  1.0\n",
      "min :  0.0\n",
      "___________________________________________________________________________\n",
      "column :  Non-industry income and expenditure/revenue\n",
      "column :  Non-industry income and expenditure/revenue\n",
      "max :  1.0\n",
      "min :  0.0\n",
      "___________________________________________________________________________\n",
      "column :  Continuous interest rate (after tax)\n",
      "column :  Continuous interest rate (after tax)\n",
      "max :  1.0\n",
      "min :  0.0\n",
      "___________________________________________________________________________\n",
      "column :  Operating Expense Rate\n",
      "column :  Operating Expense Rate\n",
      "max :  9990000000.0\n",
      "min :  0.0\n",
      "___________________________________________________________________________\n",
      "column :  Research and development expense rate\n",
      "column :  Research and development expense rate\n",
      "max :  9980000000.0\n",
      "min :  0.0\n",
      "___________________________________________________________________________\n",
      "column :  Cash flow rate\n",
      "column :  Cash flow rate\n",
      "max :  1.0\n",
      "min :  0.0\n",
      "___________________________________________________________________________\n",
      "column :  Interest-bearing debt interest rate\n",
      "column :  Interest-bearing debt interest rate\n",
      "max :  990000000.0\n",
      "min :  0.0\n",
      "___________________________________________________________________________\n",
      "column :  Tax rate (A)\n",
      "column :  Tax rate (A)\n",
      "max :  1.0\n",
      "min :  0.0\n",
      "___________________________________________________________________________\n",
      "column :  Net Value Per Share (B)\n",
      "column :  Net Value Per Share (B)\n",
      "max :  1.0\n",
      "min :  0.0\n",
      "___________________________________________________________________________\n",
      "column :  Net Value Per Share (A)\n",
      "column :  Net Value Per Share (A)\n",
      "max :  1.0\n",
      "min :  0.0\n",
      "___________________________________________________________________________\n",
      "column :  Net Value Per Share (C)\n",
      "column :  Net Value Per Share (C)\n",
      "max :  1.0\n",
      "min :  0.0\n",
      "___________________________________________________________________________\n",
      "column :  Persistent EPS in the Last Four Seasons\n",
      "column :  Persistent EPS in the Last Four Seasons\n",
      "max :  1.0\n",
      "min :  0.0\n",
      "___________________________________________________________________________\n",
      "column :  Cash Flow Per Share\n",
      "column :  Cash Flow Per Share\n",
      "max :  1.0\n",
      "min :  0.0\n",
      "___________________________________________________________________________\n",
      "column :  Revenue Per Share (Yuan ¥)\n",
      "column :  Revenue Per Share (Yuan ¥)\n",
      "max :  3020000000.0\n",
      "min :  0.0\n",
      "___________________________________________________________________________\n",
      "column :  Operating Profit Per Share (Yuan ¥)\n",
      "column :  Operating Profit Per Share (Yuan ¥)\n",
      "max :  1.0\n",
      "min :  0.0\n",
      "___________________________________________________________________________\n",
      "column :  Per Share Net profit before tax (Yuan ¥)\n",
      "column :  Per Share Net profit before tax (Yuan ¥)\n",
      "max :  1.0\n",
      "min :  0.0\n",
      "___________________________________________________________________________\n",
      "column :  Realized Sales Gross Profit Growth Rate\n",
      "column :  Realized Sales Gross Profit Growth Rate\n",
      "max :  1.0\n",
      "min :  0.0\n",
      "___________________________________________________________________________\n",
      "column :  Operating Profit Growth Rate\n",
      "column :  Operating Profit Growth Rate\n",
      "max :  1.0\n",
      "min :  0.0\n",
      "___________________________________________________________________________\n",
      "column :  After-tax Net Profit Growth Rate\n",
      "column :  After-tax Net Profit Growth Rate\n",
      "max :  1.0\n",
      "min :  0.0\n",
      "___________________________________________________________________________\n",
      "column :  Regular Net Profit Growth Rate\n",
      "column :  Regular Net Profit Growth Rate\n",
      "max :  1.0\n",
      "min :  0.0\n",
      "___________________________________________________________________________\n",
      "column :  Continuous Net Profit Growth Rate\n",
      "column :  Continuous Net Profit Growth Rate\n",
      "max :  1.0\n",
      "min :  0.0\n",
      "___________________________________________________________________________\n",
      "column :  Total Asset Growth Rate\n",
      "column :  Total Asset Growth Rate\n",
      "max :  9990000000.0\n",
      "min :  0.0\n",
      "___________________________________________________________________________\n",
      "column :  Net Value Growth Rate\n",
      "column :  Net Value Growth Rate\n",
      "max :  9330000000.0\n",
      "min :  0.0\n",
      "___________________________________________________________________________\n",
      "column :  Total Asset Return Growth Rate Ratio\n",
      "column :  Total Asset Return Growth Rate Ratio\n",
      "max :  1.0\n",
      "min :  0.0\n",
      "___________________________________________________________________________\n",
      "column :  Cash Reinvestment %\n",
      "column :  Cash Reinvestment %\n",
      "max :  1.0\n",
      "min :  0.0\n",
      "___________________________________________________________________________\n",
      "column :  Current Ratio\n",
      "column :  Current Ratio\n",
      "max :  2750000000.0\n",
      "min :  0.0\n",
      "___________________________________________________________________________\n",
      "column :  Quick Ratio\n",
      "column :  Quick Ratio\n",
      "max :  9230000000.0\n",
      "min :  0.0\n",
      "___________________________________________________________________________\n",
      "column :  Interest Expense Ratio\n",
      "column :  Interest Expense Ratio\n",
      "max :  1.0\n",
      "min :  0.0\n",
      "___________________________________________________________________________\n",
      "column :  Total debt/Total net worth\n",
      "column :  Total debt/Total net worth\n",
      "max :  9940000000.0\n",
      "min :  0.0\n",
      "___________________________________________________________________________\n",
      "column :  Debt ratio %\n",
      "column :  Debt ratio %\n",
      "max :  1.0\n",
      "min :  0.0\n",
      "___________________________________________________________________________\n",
      "column :  Net worth/Assets\n",
      "column :  Net worth/Assets\n",
      "max :  1.0\n",
      "min :  0.0\n",
      "___________________________________________________________________________\n",
      "column :  Long-term fund suitability ratio (A)\n",
      "column :  Long-term fund suitability ratio (A)\n",
      "max :  1.0\n",
      "min :  0.0\n",
      "___________________________________________________________________________\n",
      "column :  Borrowing dependency\n",
      "column :  Borrowing dependency\n",
      "max :  1.0\n",
      "min :  0.0\n",
      "___________________________________________________________________________\n",
      "column :  Contingent liabilities/Net worth\n",
      "column :  Contingent liabilities/Net worth\n",
      "max :  1.0\n",
      "min :  0.0\n",
      "___________________________________________________________________________\n",
      "column :  Operating profit/Paid-in capital\n",
      "column :  Operating profit/Paid-in capital\n",
      "max :  1.0\n",
      "min :  0.0\n",
      "___________________________________________________________________________\n",
      "column :  Net profit before tax/Paid-in capital\n",
      "column :  Net profit before tax/Paid-in capital\n",
      "max :  1.0\n",
      "min :  0.0\n",
      "___________________________________________________________________________\n",
      "column :  Inventory and accounts receivable/Net value\n",
      "column :  Inventory and accounts receivable/Net value\n",
      "max :  1.0\n",
      "min :  0.0\n",
      "___________________________________________________________________________\n",
      "column :  Total Asset Turnover\n",
      "column :  Total Asset Turnover\n",
      "max :  1.0\n",
      "min :  0.0\n",
      "___________________________________________________________________________\n",
      "column :  Accounts Receivable Turnover\n",
      "column :  Accounts Receivable Turnover\n",
      "max :  9740000000.0\n",
      "min :  0.0\n",
      "___________________________________________________________________________\n",
      "column :  Average Collection Days\n",
      "column :  Average Collection Days\n",
      "max :  9730000000.0\n",
      "min :  0.0\n",
      "___________________________________________________________________________\n",
      "column :  Inventory Turnover Rate (times)\n",
      "column :  Inventory Turnover Rate (times)\n",
      "max :  9990000000.0\n",
      "min :  0.0\n",
      "___________________________________________________________________________\n",
      "column :  Fixed Assets Turnover Frequency\n",
      "column :  Fixed Assets Turnover Frequency\n",
      "max :  9990000000.0\n",
      "min :  0.0\n",
      "___________________________________________________________________________\n",
      "column :  Net Worth Turnover Rate (times)\n",
      "column :  Net Worth Turnover Rate (times)\n",
      "max :  1.0\n",
      "min :  0.0\n",
      "___________________________________________________________________________\n",
      "column :  Revenue per person\n",
      "column :  Revenue per person\n",
      "max :  8810000000.0\n",
      "min :  0.0\n",
      "___________________________________________________________________________\n",
      "column :  Operating profit per person\n",
      "column :  Operating profit per person\n",
      "max :  1.0\n",
      "min :  0.0\n",
      "___________________________________________________________________________\n",
      "column :  Allocation rate per person\n",
      "column :  Allocation rate per person\n",
      "max :  9570000000.0\n",
      "min :  0.0\n",
      "___________________________________________________________________________\n",
      "column :  Working Capital to Total Assets\n",
      "column :  Working Capital to Total Assets\n",
      "max :  1.0\n",
      "min :  0.0\n",
      "___________________________________________________________________________\n",
      "column :  Quick Assets/Total Assets\n",
      "column :  Quick Assets/Total Assets\n",
      "max :  1.0\n",
      "min :  0.0\n",
      "___________________________________________________________________________\n",
      "column :  Current Assets/Total Assets\n",
      "column :  Current Assets/Total Assets\n",
      "max :  1.0\n",
      "min :  0.0\n",
      "___________________________________________________________________________\n",
      "column :  Cash/Total Assets\n",
      "column :  Cash/Total Assets\n",
      "max :  1.0\n",
      "min :  0.0\n",
      "___________________________________________________________________________\n",
      "column :  Quick Assets/Current Liability\n",
      "column :  Quick Assets/Current Liability\n",
      "max :  8820000000.0\n",
      "min :  0.0\n",
      "___________________________________________________________________________\n",
      "column :  Cash/Current Liability\n",
      "column :  Cash/Current Liability\n",
      "max :  9650000000.0\n",
      "min :  0.0\n",
      "___________________________________________________________________________\n",
      "column :  Current Liability to Assets\n",
      "column :  Current Liability to Assets\n",
      "max :  1.0\n",
      "min :  0.0\n",
      "___________________________________________________________________________\n",
      "column :  Operating Funds to Liability\n",
      "column :  Operating Funds to Liability\n",
      "max :  1.0\n",
      "min :  0.0\n",
      "___________________________________________________________________________\n",
      "column :  Inventory/Working Capital\n",
      "column :  Inventory/Working Capital\n",
      "max :  1.0\n",
      "min :  0.0\n",
      "___________________________________________________________________________\n",
      "column :  Inventory/Current Liability\n",
      "column :  Inventory/Current Liability\n",
      "max :  9910000000.0\n",
      "min :  0.0\n",
      "___________________________________________________________________________\n",
      "column :  Current Liabilities/Liability\n",
      "column :  Current Liabilities/Liability\n",
      "max :  1.0\n",
      "min :  0.0\n",
      "___________________________________________________________________________\n",
      "column :  Working Capital/Equity\n",
      "column :  Working Capital/Equity\n",
      "max :  1.0\n",
      "min :  0.0\n",
      "___________________________________________________________________________\n",
      "column :  Current Liabilities/Equity\n",
      "column :  Current Liabilities/Equity\n",
      "max :  1.0\n",
      "min :  0.0\n",
      "___________________________________________________________________________\n",
      "column :  Long-term Liability to Current Assets\n",
      "column :  Long-term Liability to Current Assets\n",
      "max :  9540000000.0\n",
      "min :  0.0\n",
      "___________________________________________________________________________\n",
      "column :  Retained Earnings to Total Assets\n",
      "column :  Retained Earnings to Total Assets\n",
      "max :  1.0\n",
      "min :  0.0\n",
      "___________________________________________________________________________\n",
      "column :  Total income/Total expense\n",
      "column :  Total income/Total expense\n",
      "max :  1.0\n",
      "min :  0.0\n",
      "___________________________________________________________________________\n",
      "column :  Total expense/Assets\n",
      "column :  Total expense/Assets\n",
      "max :  1.0\n",
      "min :  0.0\n",
      "___________________________________________________________________________\n",
      "column :  Current Asset Turnover Rate\n",
      "column :  Current Asset Turnover Rate\n",
      "max :  10000000000.0\n",
      "min :  0.0\n",
      "___________________________________________________________________________\n",
      "column :  Quick Asset Turnover Rate\n",
      "column :  Quick Asset Turnover Rate\n",
      "max :  10000000000.0\n",
      "min :  0.0\n",
      "___________________________________________________________________________\n",
      "column :  Working capitcal Turnover Rate\n",
      "column :  Working capitcal Turnover Rate\n",
      "max :  1.0\n",
      "min :  0.0\n",
      "___________________________________________________________________________\n",
      "column :  Cash Turnover Rate\n",
      "column :  Cash Turnover Rate\n",
      "max :  10000000000.0\n",
      "min :  0.0\n",
      "___________________________________________________________________________\n",
      "column :  Cash Flow to Sales\n",
      "column :  Cash Flow to Sales\n",
      "max :  1.0\n",
      "min :  0.0\n",
      "___________________________________________________________________________\n",
      "column :  Fixed Assets to Assets\n",
      "column :  Fixed Assets to Assets\n",
      "max :  8320000000.0\n",
      "min :  0.0\n",
      "___________________________________________________________________________\n",
      "column :  Current Liability to Liability\n",
      "column :  Current Liability to Liability\n",
      "max :  1.0\n",
      "min :  0.0\n",
      "___________________________________________________________________________\n",
      "column :  Current Liability to Equity\n",
      "column :  Current Liability to Equity\n",
      "max :  1.0\n",
      "min :  0.0\n",
      "___________________________________________________________________________\n",
      "column :  Equity to Long-term Liability\n",
      "column :  Equity to Long-term Liability\n",
      "max :  1.0\n",
      "min :  0.0\n",
      "___________________________________________________________________________\n",
      "column :  Cash Flow to Total Assets\n",
      "column :  Cash Flow to Total Assets\n",
      "max :  1.0\n",
      "min :  0.0\n",
      "___________________________________________________________________________\n",
      "column :  Cash Flow to Liability\n",
      "column :  Cash Flow to Liability\n",
      "max :  1.0\n",
      "min :  0.0\n",
      "___________________________________________________________________________\n",
      "column :  CFO to Assets\n",
      "column :  CFO to Assets\n",
      "max :  1.0\n",
      "min :  0.0\n",
      "___________________________________________________________________________\n",
      "column :  Cash Flow to Equity\n",
      "column :  Cash Flow to Equity\n",
      "max :  1.0\n",
      "min :  0.0\n",
      "___________________________________________________________________________\n",
      "column :  Current Liability to Current Assets\n",
      "column :  Current Liability to Current Assets\n",
      "max :  1.0\n",
      "min :  0.0\n",
      "___________________________________________________________________________\n",
      "column :  Liability-Assets Flag\n",
      "column :  Liability-Assets Flag\n",
      "max :  1\n",
      "min :  0\n",
      "___________________________________________________________________________\n",
      "column :  Net Income to Total Assets\n",
      "column :  Net Income to Total Assets\n",
      "max :  1.0\n",
      "min :  0.0\n",
      "___________________________________________________________________________\n",
      "column :  Total assets to GNP price\n",
      "column :  Total assets to GNP price\n",
      "max :  9820000000.0\n",
      "min :  0.0\n",
      "___________________________________________________________________________\n",
      "column :  No-credit Interval\n",
      "column :  No-credit Interval\n",
      "max :  1.0\n",
      "min :  0.0\n",
      "___________________________________________________________________________\n",
      "column :  Gross Profit to Sales\n",
      "column :  Gross Profit to Sales\n",
      "max :  1.0\n",
      "min :  0.0\n",
      "___________________________________________________________________________\n",
      "column :  Net Income to Stockholder's Equity\n",
      "column :  Net Income to Stockholder's Equity\n",
      "max :  1.0\n",
      "min :  0.0\n",
      "___________________________________________________________________________\n",
      "column :  Liability to Equity\n",
      "column :  Liability to Equity\n",
      "max :  1.0\n",
      "min :  0.0\n",
      "___________________________________________________________________________\n",
      "column :  Degree of Financial Leverage (DFL)\n",
      "column :  Degree of Financial Leverage (DFL)\n",
      "max :  1.0\n",
      "min :  0.0\n",
      "___________________________________________________________________________\n",
      "column :  Interest Coverage Ratio (Interest expense to EBIT)\n",
      "column :  Interest Coverage Ratio (Interest expense to EBIT)\n",
      "max :  1.0\n",
      "min :  0.0\n",
      "___________________________________________________________________________\n",
      "column :  Net Income Flag\n",
      "column :  Net Income Flag\n",
      "max :  1\n",
      "min :  1\n",
      "___________________________________________________________________________\n",
      "column :  Equity to Liability\n",
      "column :  Equity to Liability\n",
      "max :  1.0\n",
      "min :  0.0\n",
      "___________________________________________________________________________\n",
      "###########################################################################\n",
      "###########################################################################\n",
      "over max count :  24\n",
      "under min count :  0\n"
     ]
    }
   ],
   "source": [
    "#Data looks scaled between 1 and 0. However we should check anywaysover_count = 0\n",
    "over_index = []\n",
    "over_count = 0\n",
    "over_index = []\n",
    "for col in df.columns:\n",
    "    print('column : '+col)\n",
    "    max_val = df[col].max();\n",
    "    min_val = df[col].min();\n",
    "    \n",
    "    if max_val > 1:\n",
    "        over_count += 1\n",
    "        over_index.append(col)\n",
    "    if min_val < 0:\n",
    "        under_count += 1\n",
    "        under_index.append(col)\n",
    "        \n",
    "    print('column : ' + col)\n",
    "    print('max :  ' + format(max_val))\n",
    "    print('min :  ' + format(min_val))\n",
    "    print('___________________________________________________________________________')\n",
    "print('###########################################################################')\n",
    "print('###########################################################################')\n",
    "print('over max count : ', over_count)\n",
    "print('under min count : ', under_count)"
   ]
  },
  {
   "cell_type": "markdown",
   "metadata": {},
   "source": [
    "###### We can see that 24 of the attributes are not scales to 1 and 0. Now we should scale them"
   ]
  },
  {
   "cell_type": "code",
   "execution_count": 15,
   "metadata": {},
   "outputs": [
    {
     "data": {
      "text/plain": [
       "[' Operating Expense Rate',\n",
       " ' Research and development expense rate',\n",
       " ' Interest-bearing debt interest rate',\n",
       " ' Revenue Per Share (Yuan ¥)',\n",
       " ' Total Asset Growth Rate',\n",
       " ' Net Value Growth Rate',\n",
       " ' Current Ratio',\n",
       " ' Quick Ratio',\n",
       " ' Total debt/Total net worth',\n",
       " ' Accounts Receivable Turnover',\n",
       " ' Average Collection Days',\n",
       " ' Inventory Turnover Rate (times)',\n",
       " ' Fixed Assets Turnover Frequency',\n",
       " ' Revenue per person',\n",
       " ' Allocation rate per person',\n",
       " ' Quick Assets/Current Liability',\n",
       " ' Cash/Current Liability',\n",
       " ' Inventory/Current Liability',\n",
       " ' Long-term Liability to Current Assets',\n",
       " ' Current Asset Turnover Rate',\n",
       " ' Quick Asset Turnover Rate',\n",
       " ' Cash Turnover Rate',\n",
       " ' Fixed Assets to Assets',\n",
       " ' Total assets to GNP price']"
      ]
     },
     "execution_count": 15,
     "metadata": {},
     "output_type": "execute_result"
    }
   ],
   "source": [
    "###### We can see that 24 of the attributes are not scales to 1 and 0. Now we should scale the\n",
    "over_index"
   ]
  },
  {
   "cell_type": "code",
   "execution_count": 16,
   "metadata": {},
   "outputs": [],
   "source": [
    "from sklearn.preprocessing import MinMaxScaler"
   ]
  },
  {
   "cell_type": "code",
   "execution_count": 17,
   "metadata": {},
   "outputs": [
    {
     "data": {
      "text/html": [
       "<div>\n",
       "<style scoped>\n",
       "    .dataframe tbody tr th:only-of-type {\n",
       "        vertical-align: middle;\n",
       "    }\n",
       "\n",
       "    .dataframe tbody tr th {\n",
       "        vertical-align: top;\n",
       "    }\n",
       "\n",
       "    .dataframe thead th {\n",
       "        text-align: right;\n",
       "    }\n",
       "</style>\n",
       "<table border=\"1\" class=\"dataframe\">\n",
       "  <thead>\n",
       "    <tr style=\"text-align: right;\">\n",
       "      <th></th>\n",
       "      <th>count</th>\n",
       "      <th>mean</th>\n",
       "      <th>std</th>\n",
       "      <th>min</th>\n",
       "      <th>25%</th>\n",
       "      <th>50%</th>\n",
       "      <th>75%</th>\n",
       "      <th>max</th>\n",
       "    </tr>\n",
       "  </thead>\n",
       "  <tbody>\n",
       "    <tr>\n",
       "      <th>Operating Expense Rate</th>\n",
       "      <td>6819.0</td>\n",
       "      <td>0.199734</td>\n",
       "      <td>0.324092</td>\n",
       "      <td>0.0</td>\n",
       "      <td>1.568443e-14</td>\n",
       "      <td>2.780369e-14</td>\n",
       "      <td>4.149149e-01</td>\n",
       "      <td>1.0</td>\n",
       "    </tr>\n",
       "    <tr>\n",
       "      <th>Research and development expense rate</th>\n",
       "      <td>6819.0</td>\n",
       "      <td>0.195434</td>\n",
       "      <td>0.260350</td>\n",
       "      <td>0.0</td>\n",
       "      <td>1.284448e-14</td>\n",
       "      <td>5.100200e-02</td>\n",
       "      <td>3.456914e-01</td>\n",
       "      <td>1.0</td>\n",
       "    </tr>\n",
       "    <tr>\n",
       "      <th>Interest-bearing debt interest rate</th>\n",
       "      <td>6819.0</td>\n",
       "      <td>0.016614</td>\n",
       "      <td>0.109369</td>\n",
       "      <td>0.0</td>\n",
       "      <td>2.050710e-13</td>\n",
       "      <td>3.242749e-13</td>\n",
       "      <td>5.379326e-13</td>\n",
       "      <td>1.0</td>\n",
       "    </tr>\n",
       "    <tr>\n",
       "      <th>Revenue Per Share (Yuan ¥)</th>\n",
       "      <td>6819.0</td>\n",
       "      <td>0.000440</td>\n",
       "      <td>0.017122</td>\n",
       "      <td>0.0</td>\n",
       "      <td>5.175954e-12</td>\n",
       "      <td>9.064806e-12</td>\n",
       "      <td>1.535007e-11</td>\n",
       "      <td>1.0</td>\n",
       "    </tr>\n",
       "    <tr>\n",
       "      <th>Total Asset Growth Rate</th>\n",
       "      <td>6819.0</td>\n",
       "      <td>0.551361</td>\n",
       "      <td>0.290062</td>\n",
       "      <td>0.0</td>\n",
       "      <td>4.864865e-01</td>\n",
       "      <td>6.406406e-01</td>\n",
       "      <td>7.397397e-01</td>\n",
       "      <td>1.0</td>\n",
       "    </tr>\n",
       "    <tr>\n",
       "      <th>Net Value Growth Rate</th>\n",
       "      <td>6819.0</td>\n",
       "      <td>0.000168</td>\n",
       "      <td>0.012236</td>\n",
       "      <td>0.0</td>\n",
       "      <td>4.726355e-14</td>\n",
       "      <td>4.951292e-14</td>\n",
       "      <td>5.352220e-14</td>\n",
       "      <td>1.0</td>\n",
       "    </tr>\n",
       "    <tr>\n",
       "      <th>Current Ratio</th>\n",
       "      <td>6819.0</td>\n",
       "      <td>0.000147</td>\n",
       "      <td>0.012110</td>\n",
       "      <td>0.0</td>\n",
       "      <td>2.747290e-12</td>\n",
       "      <td>3.849882e-12</td>\n",
       "      <td>5.916192e-12</td>\n",
       "      <td>1.0</td>\n",
       "    </tr>\n",
       "    <tr>\n",
       "      <th>Quick Ratio</th>\n",
       "      <td>6819.0</td>\n",
       "      <td>0.000908</td>\n",
       "      <td>0.026510</td>\n",
       "      <td>0.0</td>\n",
       "      <td>5.120155e-13</td>\n",
       "      <td>8.030847e-13</td>\n",
       "      <td>1.327097e-12</td>\n",
       "      <td>1.0</td>\n",
       "    </tr>\n",
       "    <tr>\n",
       "      <th>Total debt/Total net worth</th>\n",
       "      <td>6819.0</td>\n",
       "      <td>0.000444</td>\n",
       "      <td>0.016942</td>\n",
       "      <td>0.0</td>\n",
       "      <td>3.025200e-13</td>\n",
       "      <td>5.579763e-13</td>\n",
       "      <td>9.329268e-13</td>\n",
       "      <td>1.0</td>\n",
       "    </tr>\n",
       "    <tr>\n",
       "      <th>Accounts Receivable Turnover</th>\n",
       "      <td>6819.0</td>\n",
       "      <td>0.001313</td>\n",
       "      <td>0.028569</td>\n",
       "      <td>0.0</td>\n",
       "      <td>7.290899e-14</td>\n",
       "      <td>9.936454e-14</td>\n",
       "      <td>1.493593e-13</td>\n",
       "      <td>1.0</td>\n",
       "    </tr>\n",
       "    <tr>\n",
       "      <th>Average Collection Days</th>\n",
       "      <td>6819.0</td>\n",
       "      <td>0.001010</td>\n",
       "      <td>0.026347</td>\n",
       "      <td>0.0</td>\n",
       "      <td>4.508253e-13</td>\n",
       "      <td>6.754920e-13</td>\n",
       "      <td>9.221866e-13</td>\n",
       "      <td>1.0</td>\n",
       "    </tr>\n",
       "    <tr>\n",
       "      <th>Inventory Turnover Rate (times)</th>\n",
       "      <td>6819.0</td>\n",
       "      <td>0.215126</td>\n",
       "      <td>0.325122</td>\n",
       "      <td>0.0</td>\n",
       "      <td>1.729986e-14</td>\n",
       "      <td>7.654397e-14</td>\n",
       "      <td>4.624625e-01</td>\n",
       "      <td>1.0</td>\n",
       "    </tr>\n",
       "    <tr>\n",
       "      <th>Fixed Assets Turnover Frequency</th>\n",
       "      <td>6819.0</td>\n",
       "      <td>0.100961</td>\n",
       "      <td>0.248004</td>\n",
       "      <td>0.0</td>\n",
       "      <td>2.332345e-14</td>\n",
       "      <td>5.936879e-14</td>\n",
       "      <td>3.656027e-13</td>\n",
       "      <td>1.0</td>\n",
       "    </tr>\n",
       "    <tr>\n",
       "      <th>Revenue per person</th>\n",
       "      <td>6819.0</td>\n",
       "      <td>0.000264</td>\n",
       "      <td>0.015509</td>\n",
       "      <td>0.0</td>\n",
       "      <td>1.184206e-12</td>\n",
       "      <td>2.112998e-12</td>\n",
       "      <td>4.069780e-12</td>\n",
       "      <td>1.0</td>\n",
       "    </tr>\n",
       "    <tr>\n",
       "      <th>Allocation rate per person</th>\n",
       "      <td>6819.0</td>\n",
       "      <td>0.001176</td>\n",
       "      <td>0.030774</td>\n",
       "      <td>0.0</td>\n",
       "      <td>4.305673e-13</td>\n",
       "      <td>8.196837e-13</td>\n",
       "      <td>1.569520e-12</td>\n",
       "      <td>1.0</td>\n",
       "    </tr>\n",
       "    <tr>\n",
       "      <th>Quick Assets/Current Liability</th>\n",
       "      <td>6819.0</td>\n",
       "      <td>0.000407</td>\n",
       "      <td>0.019458</td>\n",
       "      <td>0.0</td>\n",
       "      <td>5.940789e-13</td>\n",
       "      <td>8.967005e-13</td>\n",
       "      <td>1.468357e-12</td>\n",
       "      <td>1.0</td>\n",
       "    </tr>\n",
       "    <tr>\n",
       "      <th>Cash/Current Liability</th>\n",
       "      <td>6819.0</td>\n",
       "      <td>0.003851</td>\n",
       "      <td>0.052886</td>\n",
       "      <td>0.0</td>\n",
       "      <td>2.044567e-13</td>\n",
       "      <td>5.081748e-13</td>\n",
       "      <td>1.327002e-12</td>\n",
       "      <td>1.0</td>\n",
       "    </tr>\n",
       "    <tr>\n",
       "      <th>Inventory/Current Liability</th>\n",
       "      <td>6819.0</td>\n",
       "      <td>0.005631</td>\n",
       "      <td>0.058734</td>\n",
       "      <td>0.0</td>\n",
       "      <td>3.191875e-13</td>\n",
       "      <td>6.556342e-13</td>\n",
       "      <td>1.124800e-12</td>\n",
       "      <td>1.0</td>\n",
       "    </tr>\n",
       "    <tr>\n",
       "      <th>Long-term Liability to Current Assets</th>\n",
       "      <td>6819.0</td>\n",
       "      <td>0.005677</td>\n",
       "      <td>0.059777</td>\n",
       "      <td>0.0</td>\n",
       "      <td>0.000000e+00</td>\n",
       "      <td>2.069831e-13</td>\n",
       "      <td>9.440195e-13</td>\n",
       "      <td>1.0</td>\n",
       "    </tr>\n",
       "    <tr>\n",
       "      <th>Current Asset Turnover Rate</th>\n",
       "      <td>6819.0</td>\n",
       "      <td>0.119586</td>\n",
       "      <td>0.282116</td>\n",
       "      <td>0.0</td>\n",
       "      <td>1.456236e-14</td>\n",
       "      <td>1.987816e-14</td>\n",
       "      <td>4.525945e-14</td>\n",
       "      <td>1.0</td>\n",
       "    </tr>\n",
       "    <tr>\n",
       "      <th>Quick Asset Turnover Rate</th>\n",
       "      <td>6819.0</td>\n",
       "      <td>0.216374</td>\n",
       "      <td>0.337494</td>\n",
       "      <td>0.0</td>\n",
       "      <td>1.417149e-14</td>\n",
       "      <td>2.247728e-14</td>\n",
       "      <td>4.900000e-01</td>\n",
       "      <td>1.0</td>\n",
       "    </tr>\n",
       "    <tr>\n",
       "      <th>Cash Turnover Rate</th>\n",
       "      <td>6819.0</td>\n",
       "      <td>0.247198</td>\n",
       "      <td>0.293862</td>\n",
       "      <td>0.0</td>\n",
       "      <td>2.735337e-14</td>\n",
       "      <td>1.080000e-01</td>\n",
       "      <td>4.510000e-01</td>\n",
       "      <td>1.0</td>\n",
       "    </tr>\n",
       "    <tr>\n",
       "      <th>Fixed Assets to Assets</th>\n",
       "      <td>6819.0</td>\n",
       "      <td>0.000147</td>\n",
       "      <td>0.012110</td>\n",
       "      <td>0.0</td>\n",
       "      <td>1.025966e-11</td>\n",
       "      <td>2.366359e-11</td>\n",
       "      <td>4.473557e-11</td>\n",
       "      <td>1.0</td>\n",
       "    </tr>\n",
       "    <tr>\n",
       "      <th>Total assets to GNP price</th>\n",
       "      <td>6819.0</td>\n",
       "      <td>0.001897</td>\n",
       "      <td>0.038335</td>\n",
       "      <td>0.0</td>\n",
       "      <td>9.201838e-14</td>\n",
       "      <td>2.123435e-13</td>\n",
       "      <td>5.366372e-13</td>\n",
       "      <td>1.0</td>\n",
       "    </tr>\n",
       "  </tbody>\n",
       "</table>\n",
       "</div>"
      ],
      "text/plain": [
       "                                         count      mean       std  min  \\\n",
       " Operating Expense Rate                 6819.0  0.199734  0.324092  0.0   \n",
       " Research and development expense rate  6819.0  0.195434  0.260350  0.0   \n",
       " Interest-bearing debt interest rate    6819.0  0.016614  0.109369  0.0   \n",
       " Revenue Per Share (Yuan ¥)             6819.0  0.000440  0.017122  0.0   \n",
       " Total Asset Growth Rate                6819.0  0.551361  0.290062  0.0   \n",
       " Net Value Growth Rate                  6819.0  0.000168  0.012236  0.0   \n",
       " Current Ratio                          6819.0  0.000147  0.012110  0.0   \n",
       " Quick Ratio                            6819.0  0.000908  0.026510  0.0   \n",
       " Total debt/Total net worth             6819.0  0.000444  0.016942  0.0   \n",
       " Accounts Receivable Turnover           6819.0  0.001313  0.028569  0.0   \n",
       " Average Collection Days                6819.0  0.001010  0.026347  0.0   \n",
       " Inventory Turnover Rate (times)        6819.0  0.215126  0.325122  0.0   \n",
       " Fixed Assets Turnover Frequency        6819.0  0.100961  0.248004  0.0   \n",
       " Revenue per person                     6819.0  0.000264  0.015509  0.0   \n",
       " Allocation rate per person             6819.0  0.001176  0.030774  0.0   \n",
       " Quick Assets/Current Liability         6819.0  0.000407  0.019458  0.0   \n",
       " Cash/Current Liability                 6819.0  0.003851  0.052886  0.0   \n",
       " Inventory/Current Liability            6819.0  0.005631  0.058734  0.0   \n",
       " Long-term Liability to Current Assets  6819.0  0.005677  0.059777  0.0   \n",
       " Current Asset Turnover Rate            6819.0  0.119586  0.282116  0.0   \n",
       " Quick Asset Turnover Rate              6819.0  0.216374  0.337494  0.0   \n",
       " Cash Turnover Rate                     6819.0  0.247198  0.293862  0.0   \n",
       " Fixed Assets to Assets                 6819.0  0.000147  0.012110  0.0   \n",
       " Total assets to GNP price              6819.0  0.001897  0.038335  0.0   \n",
       "\n",
       "                                                 25%           50%  \\\n",
       " Operating Expense Rate                 1.568443e-14  2.780369e-14   \n",
       " Research and development expense rate  1.284448e-14  5.100200e-02   \n",
       " Interest-bearing debt interest rate    2.050710e-13  3.242749e-13   \n",
       " Revenue Per Share (Yuan ¥)             5.175954e-12  9.064806e-12   \n",
       " Total Asset Growth Rate                4.864865e-01  6.406406e-01   \n",
       " Net Value Growth Rate                  4.726355e-14  4.951292e-14   \n",
       " Current Ratio                          2.747290e-12  3.849882e-12   \n",
       " Quick Ratio                            5.120155e-13  8.030847e-13   \n",
       " Total debt/Total net worth             3.025200e-13  5.579763e-13   \n",
       " Accounts Receivable Turnover           7.290899e-14  9.936454e-14   \n",
       " Average Collection Days                4.508253e-13  6.754920e-13   \n",
       " Inventory Turnover Rate (times)        1.729986e-14  7.654397e-14   \n",
       " Fixed Assets Turnover Frequency        2.332345e-14  5.936879e-14   \n",
       " Revenue per person                     1.184206e-12  2.112998e-12   \n",
       " Allocation rate per person             4.305673e-13  8.196837e-13   \n",
       " Quick Assets/Current Liability         5.940789e-13  8.967005e-13   \n",
       " Cash/Current Liability                 2.044567e-13  5.081748e-13   \n",
       " Inventory/Current Liability            3.191875e-13  6.556342e-13   \n",
       " Long-term Liability to Current Assets  0.000000e+00  2.069831e-13   \n",
       " Current Asset Turnover Rate            1.456236e-14  1.987816e-14   \n",
       " Quick Asset Turnover Rate              1.417149e-14  2.247728e-14   \n",
       " Cash Turnover Rate                     2.735337e-14  1.080000e-01   \n",
       " Fixed Assets to Assets                 1.025966e-11  2.366359e-11   \n",
       " Total assets to GNP price              9.201838e-14  2.123435e-13   \n",
       "\n",
       "                                                 75%  max  \n",
       " Operating Expense Rate                 4.149149e-01  1.0  \n",
       " Research and development expense rate  3.456914e-01  1.0  \n",
       " Interest-bearing debt interest rate    5.379326e-13  1.0  \n",
       " Revenue Per Share (Yuan ¥)             1.535007e-11  1.0  \n",
       " Total Asset Growth Rate                7.397397e-01  1.0  \n",
       " Net Value Growth Rate                  5.352220e-14  1.0  \n",
       " Current Ratio                          5.916192e-12  1.0  \n",
       " Quick Ratio                            1.327097e-12  1.0  \n",
       " Total debt/Total net worth             9.329268e-13  1.0  \n",
       " Accounts Receivable Turnover           1.493593e-13  1.0  \n",
       " Average Collection Days                9.221866e-13  1.0  \n",
       " Inventory Turnover Rate (times)        4.624625e-01  1.0  \n",
       " Fixed Assets Turnover Frequency        3.656027e-13  1.0  \n",
       " Revenue per person                     4.069780e-12  1.0  \n",
       " Allocation rate per person             1.569520e-12  1.0  \n",
       " Quick Assets/Current Liability         1.468357e-12  1.0  \n",
       " Cash/Current Liability                 1.327002e-12  1.0  \n",
       " Inventory/Current Liability            1.124800e-12  1.0  \n",
       " Long-term Liability to Current Assets  9.440195e-13  1.0  \n",
       " Current Asset Turnover Rate            4.525945e-14  1.0  \n",
       " Quick Asset Turnover Rate              4.900000e-01  1.0  \n",
       " Cash Turnover Rate                     4.510000e-01  1.0  \n",
       " Fixed Assets to Assets                 4.473557e-11  1.0  \n",
       " Total assets to GNP price              5.366372e-13  1.0  "
      ]
     },
     "execution_count": 17,
     "metadata": {},
     "output_type": "execute_result"
    }
   ],
   "source": [
    "df[over_index] = MinMaxScaler().fit_transform(df[over_index])\n",
    "df[over_index].describe().T"
   ]
  },
  {
   "cell_type": "markdown",
   "metadata": {},
   "source": [
    "We can see that scaling was done successfully, due to min and max being 0 and 1."
   ]
  },
  {
   "cell_type": "code",
   "execution_count": 18,
   "metadata": {},
   "outputs": [
    {
     "data": {
      "text/plain": [
       "0    6599\n",
       "1     220\n",
       "Name: Bankrupt?, dtype: int64"
      ]
     },
     "execution_count": 18,
     "metadata": {},
     "output_type": "execute_result"
    }
   ],
   "source": [
    "df['Bankrupt?'].value_counts()"
   ]
  },
  {
   "cell_type": "markdown",
   "metadata": {},
   "source": [
    "### Oversampling"
   ]
  },
  {
   "cell_type": "code",
   "execution_count": 19,
   "metadata": {},
   "outputs": [
    {
     "data": {
      "text/plain": [
       "Text(0.5, 1.0, 'Target feature - Bankrupt?')"
      ]
     },
     "execution_count": 19,
     "metadata": {},
     "output_type": "execute_result"
    },
    {
     "data": {
      "image/png": "[encoded data removed]",
      "text/plain": [
       "<Figure size 432x288 with 1 Axes>"
      ]
     },
     "metadata": {
      "needs_background": "light"
     },
     "output_type": "display_data"
    }
   ],
   "source": [
    "sns.countplot(x=df['Bankrupt?'])\n",
    "plt.title('Target feature - Bankrupt?')"
   ]
  },
  {
   "cell_type": "markdown",
   "metadata": {},
   "source": [
    "Here we can see that the data is not balanced at all.\n",
    "When data is imbalanced, we can use oversampling methods to increase the samples of the data with less instances."
   ]
  },
  {
   "cell_type": "code",
   "execution_count": 20,
   "metadata": {},
   "outputs": [],
   "source": [
    "from imblearn.over_sampling import SMOTE"
   ]
  },
  {
   "cell_type": "code",
   "execution_count": 22,
   "metadata": {},
   "outputs": [],
   "source": [
    "X_imb = df.drop(labels=['Bankrupt?'], axis=1)\n",
    "y_imb = df['Bankrupt?']\n",
    "\n",
    "X, y =SMOTE().fit_resample(X_imb, y_imb)"
   ]
  },
  {
   "cell_type": "code",
   "execution_count": 23,
   "metadata": {},
   "outputs": [
    {
     "data": {
      "text/plain": [
       "<AxesSubplot:xlabel='Bankrupt?', ylabel='count'>"
      ]
     },
     "execution_count": 23,
     "metadata": {},
     "output_type": "execute_result"
    },
    {
     "data": {
      "image/png": "[encoded data removed]",
      "text/plain": [
       "<Figure size 432x288 with 1 Axes>"
      ]
     },
     "metadata": {
      "needs_background": "light"
     },
     "output_type": "display_data"
    }
   ],
   "source": [
    "sns.countplot(x=y)"
   ]
  },
  {
   "cell_type": "markdown",
   "metadata": {},
   "source": [
    "### Feature Selection"
   ]
  },
  {
   "cell_type": "code",
   "execution_count": 24,
   "metadata": {},
   "outputs": [],
   "source": [
    "#import libraries\n",
    "from sklearn.feature_selection import SelectKBest\n",
    "from sklearn.feature_selection import chi2\n",
    "import matplotlib.pyplot as plt\n"
   ]
  },
  {
   "cell_type": "code",
   "execution_count": 25,
   "metadata": {},
   "outputs": [
    {
     "name": "stdout",
     "output_type": "stream",
     "text": [
      "AxesSubplot(0.125,0.125;0.775x0.755)\n"
     ]
    },
    {
     "data": {
      "image/png": "[encoded data removed]",
      "text/plain": [
       "<Figure size 432x288 with 1 Axes>"
      ]
     },
     "metadata": {
      "needs_background": "light"
     },
     "output_type": "display_data"
    },
    {
     "data": {
      "text/plain": [
       "(' Tax rate (A)',\n",
       " ' Cash/Total Assets',\n",
       " ' Fixed Assets Turnover Frequency',\n",
       " ' Debt ratio %',\n",
       " ' Quick Assets/Total Assets',\n",
       " ' Cash/Current Liability',\n",
       " ' Current Liability to Assets',\n",
       " ' Current Liability to Assets',\n",
       " ' Interest-bearing debt interest rate')"
      ]
     },
     "execution_count": 25,
     "metadata": {},
     "output_type": "execute_result"
    }
   ],
   "source": [
    "\n",
    "#Fit the model\n",
    "bestfeatures = SelectKBest(score_func=chi2, k=30)\n",
    "fit = bestfeatures.fit(X,y)\n",
    "dfscores = pd.DataFrame(fit.scores_)\n",
    "dfcolumns = pd.DataFrame(X.columns)\n",
    "\n",
    "selected_features=X.columns[bestfeatures.get_support()]\n",
    "X[selected_features]\n",
    "\n",
    "#concatenate the two dataframes\n",
    "featureScores = pd.concat([dfcolumns,dfscores],axis=1)\n",
    "featureScores.columns = ['Specs','Score']\n",
    "\n",
    "#print best features\n",
    "print(featureScores.nlargest(30,'Score').plot(kind='barh'))\n",
    "\n",
    "#plot graph of feature importances \n",
    "plt.show()\n",
    "X.iloc[:,14].name,X.iloc[:,56].name,X.iloc[:,48].name,X.iloc[:,36].name,X.iloc[:,54].name,X.iloc[:,58].name,X.iloc[:,59].name,X.iloc[:,59].name,X.iloc[:,13].name\n",
    "\n",
    "\n"
   ]
  },
  {
   "cell_type": "code",
   "execution_count": 28,
   "metadata": {},
   "outputs": [],
   "source": [
    "from sklearn.preprocessing import StandardScaler\n",
    "scaler=StandardScaler()\n",
    "X_scale=scaler.fit_transform(X[selected_features])"
   ]
  },
  {
   "cell_type": "markdown",
   "metadata": {},
   "source": [
    "## Logistic Regression"
   ]
  },
  {
   "cell_type": "code",
   "execution_count": 29,
   "metadata": {},
   "outputs": [],
   "source": [
    "#splitting data\n",
    "from sklearn.model_selection import train_test_split\n",
    "X_train, X_test, y_train, y_test = train_test_split(X_scale, y,test_size=0.3)"
   ]
  },
  {
   "cell_type": "code",
   "execution_count": 30,
   "metadata": {},
   "outputs": [
    {
     "name": "stdout",
     "output_type": "stream",
     "text": [
      "confusion matrix:\n",
      " [[1791  201]\n",
      " [ 142 1826]]\n"
     ]
    }
   ],
   "source": [
    "from sklearn.linear_model import LogisticRegression\n",
    "\n",
    "LR = LogisticRegression(max_iter = 10000)\n",
    "LR.fit(X_train,y_train)\n",
    "\n",
    "#getting confusion matrix\n",
    "from sklearn.metrics import confusion_matrix,classification_report\n",
    "\n",
    "y_pred = LR.predict(X_test)\n",
    "cm = confusion_matrix(y_test,y_pred)\n",
    "print('confusion matrix:\\n',cm)"
   ]
  },
  {
   "cell_type": "code",
   "execution_count": 31,
   "metadata": {},
   "outputs": [
    {
     "name": "stdout",
     "output_type": "stream",
     "text": [
      "\n",
      "accuracy score =  0.9133838383838384\n"
     ]
    }
   ],
   "source": [
    "from sklearn.metrics import accuracy_score\n",
    "#checking accuracy\n",
    "LRacc = accuracy_score(y_test,y_pred)\n",
    "print('\\naccuracy score = ',LRacc)"
   ]
  },
  {
   "cell_type": "markdown",
   "metadata": {},
   "source": [
    "###### Predicting a company is not going to get bankrupt where in fact it will, is critical. We have to work on having lowest possibility of predicting that. "
   ]
  },
  {
   "cell_type": "markdown",
   "metadata": {},
   "source": [
    "###### Priority is to have recall high, also known as true positive rate. Which justifies our choice on relying on the ROC curve metric"
   ]
  },
  {
   "cell_type": "code",
   "execution_count": 32,
   "metadata": {},
   "outputs": [],
   "source": [
    "from sklearn.metrics import roc_curve\n",
    "from sklearn.metrics import roc_auc_score\n",
    "from matplotlib import pyplot\n",
    "from sklearn import metrics\n"
   ]
  },
  {
   "cell_type": "code",
   "execution_count": 34,
   "metadata": {
    "scrolled": true
   },
   "outputs": [
    {
     "name": "stdout",
     "output_type": "stream",
     "text": [
      "0.9134709569987265\n"
     ]
    },
    {
     "data": {
      "image/png": "[encoded data removed]",
      "text/plain": [
       "<Figure size 432x288 with 1 Axes>"
      ]
     },
     "metadata": {
      "needs_background": "light"
     },
     "output_type": "display_data"
    }
   ],
   "source": [
    "\n",
    "lr_auc = roc_auc_score(y_test, y_pred)\n",
    "print(lr_auc)\n",
    "fpr, tpr, _ = metrics.roc_curve(y_test,  y_pred)\n",
    "\n",
    "#create ROC curve\n",
    "pyplot.plot(fpr,tpr)\n",
    "pyplot.ylabel('True Positive Rate')\n",
    "pyplot.xlabel('False Positive Rate')\n",
    "pyplot.show()"
   ]
  },
  {
   "cell_type": "markdown",
   "metadata": {},
   "source": [
    "#### We got a roc curve of 0.91 with the Logistic Regression"
   ]
  },
  {
   "cell_type": "markdown",
   "metadata": {},
   "source": [
    "### Cross-Validation"
   ]
  },
  {
   "cell_type": "code",
   "execution_count": 37,
   "metadata": {},
   "outputs": [],
   "source": [
    "from sklearn.model_selection import cross_val_score"
   ]
  },
  {
   "cell_type": "code",
   "execution_count": 38,
   "metadata": {},
   "outputs": [
    {
     "name": "stdout",
     "output_type": "stream",
     "text": [
      "Cross-Validation Accuracy Scores [0.86969697 0.81590909 0.91325758 0.90943539 0.91549829]\n"
     ]
    }
   ],
   "source": [
    "scores = cross_val_score(LR, X, y, cv=5)\n",
    "print('Cross-Validation Accuracy Scores', scores)"
   ]
  },
  {
   "cell_type": "code",
   "execution_count": 39,
   "metadata": {},
   "outputs": [
    {
     "name": "stderr",
     "output_type": "stream",
     "text": [
      "No handles with labels found to put in legend.\n"
     ]
    },
    {
     "data": {
      "image/png": "[encoded data removed]",
      "text/plain": [
       "<Figure size 432x288 with 1 Axes>"
      ]
     },
     "metadata": {
      "needs_background": "light"
     },
     "output_type": "display_data"
    }
   ],
   "source": [
    "plt.plot(range(1,6), scores)\n",
    "plt.xlabel('Folds')\n",
    "plt.ylabel('Accuracy')\n",
    "plt.legend();"
   ]
  },
  {
   "cell_type": "code",
   "execution_count": 40,
   "metadata": {},
   "outputs": [
    {
     "data": {
      "text/plain": [
       "(0.8159090909090909, 0.8847594646732577, 0.9154982948086396)"
      ]
     },
     "execution_count": 40,
     "metadata": {},
     "output_type": "execute_result"
    }
   ],
   "source": [
    "scores = pd.Series(scores)\n",
    "scores.min(), scores.mean(), scores.max()"
   ]
  },
  {
   "cell_type": "markdown",
   "metadata": {},
   "source": [
    "##### Here we can see that mean is 88% and not far from the results we got, which shows that we do not have overfitting or underfitting"
   ]
  },
  {
   "cell_type": "markdown",
   "metadata": {},
   "source": [
    "## K-nearest neighbors KNN"
   ]
  },
  {
   "cell_type": "code",
   "execution_count": 43,
   "metadata": {},
   "outputs": [],
   "source": [
    "from sklearn.neighbors import KNeighborsClassifier as KNN\n",
    "# check over/underfitting\n",
    "train_scores = []\n",
    "test_scores = []\n",
    "for i in range(1, 12): # n_neighbors = 1~12\n",
    "    Knn = KNN(n_neighbors=i)\n",
    "    Knn.fit(X_train,y_train)\n",
    "    \n",
    "    train_scores.append(Knn.score(X_train,y_train))\n",
    "    test_scores.append(Knn.score(X_test,y_test))"
   ]
  },
  {
   "cell_type": "code",
   "execution_count": 44,
   "metadata": {
    "scrolled": true
   },
   "outputs": [
    {
     "data": {
      "image/png": "[encoded data removed]",
      "text/plain": [
       "<Figure size 432x288 with 1 Axes>"
      ]
     },
     "metadata": {
      "needs_background": "light"
     },
     "output_type": "display_data"
    }
   ],
   "source": [
    "plt.plot(range(1,12), train_scores, label='train_accuracy')\n",
    "plt.plot(range(1,12), test_scores, label='test_accuracy')\n",
    "plt.xlabel('n_neighbors')\n",
    "plt.ylabel('Accuracy')\n",
    "plt.legend();"
   ]
  },
  {
   "cell_type": "markdown",
   "metadata": {},
   "source": [
    "The graph shows that KNN with 2 neighbors leads to the highest test accuracy, and whats more that 2 would lead to an overfitting"
   ]
  },
  {
   "cell_type": "code",
   "execution_count": 46,
   "metadata": {},
   "outputs": [
    {
     "name": "stdout",
     "output_type": "stream",
     "text": [
      "Final - Accuracy :  0.975\n"
     ]
    }
   ],
   "source": [
    "Knn = KNN(n_neighbors=2)\n",
    "Knn.fit(X_train, y_train)\n",
    "\n",
    "\n",
    "y_pred = Knn.predict(X_test)\n",
    "cm = confusion_matrix(y_test,y_pred)\n",
    "print('Final - Accuracy : ', accuracy_score(y_test,y_pred))"
   ]
  },
  {
   "cell_type": "code",
   "execution_count": 48,
   "metadata": {},
   "outputs": [
    {
     "name": "stdout",
     "output_type": "stream",
     "text": [
      "\n",
      "confusion matrix:\n",
      " [[1898   94]\n",
      " [   5 1963]]\n",
      "\n",
      "Classification Report: \n",
      "               precision    recall  f1-score   support\n",
      "\n",
      "           0       1.00      0.95      0.97      1992\n",
      "           1       0.95      1.00      0.98      1968\n",
      "\n",
      "    accuracy                           0.97      3960\n",
      "   macro avg       0.98      0.98      0.97      3960\n",
      "weighted avg       0.98      0.97      0.97      3960\n",
      "\n"
     ]
    }
   ],
   "source": [
    "print('\\nconfusion matrix:\\n',cm)\n",
    "print(\"\\nClassification Report: \\n\",classification_report(y_test,y_pred))"
   ]
  },
  {
   "cell_type": "code",
   "execution_count": 49,
   "metadata": {
    "scrolled": true
   },
   "outputs": [
    {
     "name": "stdout",
     "output_type": "stream",
     "text": [
      "0.9751352972867078\n"
     ]
    },
    {
     "data": {
      "image/png": "[encoded data removed]",
      "text/plain": [
       "<Figure size 432x288 with 1 Axes>"
      ]
     },
     "metadata": {
      "needs_background": "light"
     },
     "output_type": "display_data"
    }
   ],
   "source": [
    "knn_auc = roc_auc_score(y_test, y_pred)\n",
    "print(knn_auc)\n",
    "fpr, tpr, _ = metrics.roc_curve(y_test,  y_pred)\n",
    "\n",
    "#create ROC curve\n",
    "pyplot.plot(fpr,tpr)\n",
    "pyplot.ylabel('True Positive Rate')\n",
    "pyplot.xlabel('False Positive Rate')\n",
    "pyplot.show()"
   ]
  },
  {
   "cell_type": "markdown",
   "metadata": {},
   "source": [
    "#### KNN showed AUROC=0.97 according to the roc curve which is a very good result"
   ]
  },
  {
   "cell_type": "code",
   "execution_count": 50,
   "metadata": {},
   "outputs": [
    {
     "name": "stdout",
     "output_type": "stream",
     "text": [
      "Cross-Validation Accuracy Scores [0.92083333 0.92954545 0.975      0.9795377  0.98105343]\n"
     ]
    }
   ],
   "source": [
    "scores = cross_val_score(Knn, X, y, cv=5)\n",
    "print('Cross-Validation Accuracy Scores', scores)"
   ]
  },
  {
   "cell_type": "code",
   "execution_count": 51,
   "metadata": {},
   "outputs": [
    {
     "name": "stderr",
     "output_type": "stream",
     "text": [
      "No handles with labels found to put in legend.\n"
     ]
    },
    {
     "data": {
      "image/png": "[encoded data removed]",
      "text/plain": [
       "<Figure size 432x288 with 1 Axes>"
      ]
     },
     "metadata": {
      "needs_background": "light"
     },
     "output_type": "display_data"
    }
   ],
   "source": [
    "plt.plot(range(1,6), scores)\n",
    "plt.xlabel('folds')\n",
    "plt.ylabel('Accuracy')\n",
    "plt.legend();"
   ]
  },
  {
   "cell_type": "code",
   "execution_count": 52,
   "metadata": {},
   "outputs": [
    {
     "data": {
      "text/plain": [
       "(0.9208333333333333, 0.9571939841767427, 0.9810534293292914)"
      ]
     },
     "execution_count": 52,
     "metadata": {},
     "output_type": "execute_result"
    }
   ],
   "source": [
    "scores = pd.Series(scores)\n",
    "scores.min(), scores.mean(), scores.max()"
   ]
  },
  {
   "cell_type": "markdown",
   "metadata": {},
   "source": [
    "#### 5 Fold Cross Validation for KNN showed a 95% accuracy "
   ]
  },
  {
   "cell_type": "markdown",
   "metadata": {},
   "source": [
    "##### Here we can see that mean is not far from the results we got, which shows that we do not have overfitting or underfitting"
   ]
  },
  {
   "cell_type": "markdown",
   "metadata": {},
   "source": [
    "#### KNN scored an accuracy of a roc curve 97%"
   ]
  },
  {
   "cell_type": "markdown",
   "metadata": {},
   "source": [
    "## Support Vector Machine"
   ]
  },
  {
   "cell_type": "code",
   "execution_count": 53,
   "metadata": {},
   "outputs": [
    {
     "name": "stdout",
     "output_type": "stream",
     "text": [
      "confusion matrix:\n",
      " [[1824  168]\n",
      " [  25 1943]]\n",
      "\n",
      "Final - Accuracy :  0.9512626262626263\n",
      "\n",
      "## Support Vector MachineClassification Report:\n",
      "               precision    recall  f1-score   support\n",
      "\n",
      "           0       0.99      0.92      0.95      1992\n",
      "           1       0.92      0.99      0.95      1968\n",
      "\n",
      "    accuracy                           0.95      3960\n",
      "   macro avg       0.95      0.95      0.95      3960\n",
      "weighted avg       0.95      0.95      0.95      3960\n",
      "\n"
     ]
    }
   ],
   "source": [
    "from sklearn.svm import SVC\n",
    "\n",
    "SVM = SVC()\n",
    "SVM.fit(X_train, y_train)\n",
    "\n",
    "y_pred = SVM.predict(X_test)\n",
    "cm = confusion_matrix(y_test,y_pred)\n",
    "print('confusion matrix:\\n',cm)\n",
    "\n",
    "print('\\nFinal - Accuracy : ', accuracy_score(y_test,y_pred))\n",
    "\n",
    "print(\"\\n## Support Vector MachineClassification Report:\\n\",classification_report(y_test,y_pred))"
   ]
  },
  {
   "cell_type": "code",
   "execution_count": 54,
   "metadata": {
    "scrolled": true
   },
   "outputs": [
    {
     "name": "stdout",
     "output_type": "stream",
     "text": [
      "0.9514796992849447\n"
     ]
    },
    {
     "data": {
      "image/png": "[encoded data removed]",
      "text/plain": [
       "<Figure size 432x288 with 1 Axes>"
      ]
     },
     "metadata": {
      "needs_background": "light"
     },
     "output_type": "display_data"
    }
   ],
   "source": [
    "svm_auc = roc_auc_score(y_test, y_pred)\n",
    "print(svm_auc)\n",
    "fpr, tpr, _ = metrics.roc_curve(y_test,  y_pred)\n",
    "\n",
    "#create ROC curve\n",
    "pyplot.plot(fpr,tpr)\n",
    "pyplot.ylabel('True Positive Rate')\n",
    "pyplot.xlabel('False Positive Rate')\n",
    "pyplot.show()"
   ]
  },
  {
   "cell_type": "markdown",
   "metadata": {},
   "source": [
    "#### Support Vector Machine showed AUROC=0.95 according to the roc curve"
   ]
  },
  {
   "cell_type": "code",
   "execution_count": 55,
   "metadata": {},
   "outputs": [
    {
     "name": "stderr",
     "output_type": "stream",
     "text": [
      "No handles with labels found to put in legend.\n"
     ]
    },
    {
     "name": "stdout",
     "output_type": "stream",
     "text": [
      "Cross-Validation Accuracy Scores [0.87272727 0.85151515 0.93143939 0.92080333 0.93444487]\n"
     ]
    },
    {
     "data": {
      "image/png": "[encoded data removed]",
      "text/plain": [
       "<Figure size 432x288 with 1 Axes>"
      ]
     },
     "metadata": {
      "needs_background": "light"
     },
     "output_type": "display_data"
    }
   ],
   "source": [
    "scores = cross_val_score(SVM, X, y, cv=5)\n",
    "print('Cross-Validation Accuracy Scores', scores)\n",
    "plt.plot(range(1,6), scores)\n",
    "plt.xlabel('folds')\n",
    "plt.ylabel('Accuracy')\n",
    "plt.legend();"
   ]
  },
  {
   "cell_type": "code",
   "execution_count": 56,
   "metadata": {},
   "outputs": [
    {
     "data": {
      "text/plain": [
       "(0.8515151515151516, 0.9021860036515207, 0.9344448654793482)"
      ]
     },
     "execution_count": 56,
     "metadata": {},
     "output_type": "execute_result"
    }
   ],
   "source": [
    "scores = pd.Series(scores)\n",
    "scores.min(), scores.mean(), scores.max()"
   ]
  },
  {
   "cell_type": "markdown",
   "metadata": {},
   "source": [
    "#### 5 Fold Cross Validation for SVM showed a 90% accuracy "
   ]
  },
  {
   "cell_type": "markdown",
   "metadata": {},
   "source": [
    "##### Here we can see that mean is not far from the results we got, which shows that we do not have overfitting or underfitting"
   ]
  },
  {
   "cell_type": "markdown",
   "metadata": {},
   "source": [
    "## Random Forest"
   ]
  },
  {
   "cell_type": "code",
   "execution_count": 57,
   "metadata": {
    "scrolled": true
   },
   "outputs": [
    {
     "name": "stdout",
     "output_type": "stream",
     "text": [
      "confusion matrix:\n",
      " [[1909   83]\n",
      " [  19 1949]]\n",
      "Classification Report               precision    recall  f1-score   support\n",
      "\n",
      "           0       0.99      0.96      0.97      1992\n",
      "           1       0.96      0.99      0.97      1968\n",
      "\n",
      "    accuracy                           0.97      3960\n",
      "   macro avg       0.97      0.97      0.97      3960\n",
      "weighted avg       0.97      0.97      0.97      3960\n",
      "\n"
     ]
    }
   ],
   "source": [
    "#training model\n",
    "from sklearn.ensemble import RandomForestClassifier\n",
    "RF = RandomForestClassifier(n_estimators = 60,random_state = 0)\n",
    "RF.fit(X_train,y_train)\n",
    "\n",
    "#getting confusion matrix\n",
    "y_pred = RF.predict(X_test)\n",
    "cm = confusion_matrix(y_test,y_pred)\n",
    "print('confusion matrix:\\n',cm)\n",
    "\n",
    "\n",
    "print(\"Classification Report\",classification_report(y_test,y_pred))"
   ]
  },
  {
   "cell_type": "code",
   "execution_count": 59,
   "metadata": {},
   "outputs": [
    {
     "name": "stdout",
     "output_type": "stream",
     "text": [
      "0.9743394308943089\n"
     ]
    },
    {
     "data": {
      "image/png": "[encoded data removed]",
      "text/plain": [
       "<Figure size 432x288 with 1 Axes>"
      ]
     },
     "metadata": {
      "needs_background": "light"
     },
     "output_type": "display_data"
    }
   ],
   "source": [
    "RF_auc = roc_auc_score(y_test, y_pred)\n",
    "print(RF_auc)\n",
    "fpr, tpr, _ = metrics.roc_curve(y_test,  y_pred)\n",
    "\n",
    "#create ROC curve\n",
    "pyplot.plot(fpr,tpr)\n",
    "pyplot.ylabel('True Positive Rate')\n",
    "pyplot.xlabel('False Positive Rate')\n",
    "pyplot.show()"
   ]
  },
  {
   "cell_type": "markdown",
   "metadata": {},
   "source": [
    "#### Random Forest showed an AUROC=0.97 with the roc curve metric"
   ]
  },
  {
   "cell_type": "code",
   "execution_count": null,
   "metadata": {},
   "outputs": [],
   "source": []
  },
  {
   "cell_type": "code",
   "execution_count": 60,
   "metadata": {},
   "outputs": [
    {
     "name": "stderr",
     "output_type": "stream",
     "text": [
      "No handles with labels found to put in legend.\n"
     ]
    },
    {
     "name": "stdout",
     "output_type": "stream",
     "text": [
      "Cross-Validation Accuracy Scores [0.95909091 0.95757576 0.98295455 0.98370595 0.98446381]\n"
     ]
    },
    {
     "data": {
      "image/png": "[encoded data removed]",
      "text/plain": [
       "<Figure size 432x288 with 1 Axes>"
      ]
     },
     "metadata": {
      "needs_background": "light"
     },
     "output_type": "display_data"
    }
   ],
   "source": [
    "scores = cross_val_score(RF, X, y, cv=5)\n",
    "print('Cross-Validation Accuracy Scores', scores)\n",
    "\n",
    "plt.plot(range(1,6), scores)\n",
    "plt.xlabel('folds')\n",
    "plt.ylabel('Accuracy')\n",
    "plt.legend();\n",
    "\n"
   ]
  },
  {
   "cell_type": "code",
   "execution_count": 61,
   "metadata": {},
   "outputs": [
    {
     "data": {
      "text/plain": [
       "(0.9575757575757575, 0.9735581946788843, 0.984463812050019)"
      ]
     },
     "execution_count": 61,
     "metadata": {},
     "output_type": "execute_result"
    }
   ],
   "source": [
    "scores = pd.Series(scores)\n",
    "scores.min(), scores.mean(), scores.max()"
   ]
  },
  {
   "cell_type": "markdown",
   "metadata": {},
   "source": [
    "#### 5 Fold Cross Validation for Random Forest showed a 97% accuracy "
   ]
  },
  {
   "cell_type": "markdown",
   "metadata": {},
   "source": [
    "## Decision Tree"
   ]
  },
  {
   "cell_type": "code",
   "execution_count": 62,
   "metadata": {},
   "outputs": [
    {
     "name": "stdout",
     "output_type": "stream",
     "text": [
      "confusion matrix:\n",
      " [[1870  122]\n",
      " [  89 1879]]\n",
      "accuracy score =  0.9467171717171717\n",
      "Classification Report               precision    recall  f1-score   support\n",
      "\n",
      "           0       0.95      0.94      0.95      1992\n",
      "           1       0.94      0.95      0.95      1968\n",
      "\n",
      "    accuracy                           0.95      3960\n",
      "   macro avg       0.95      0.95      0.95      3960\n",
      "weighted avg       0.95      0.95      0.95      3960\n",
      "\n"
     ]
    }
   ],
   "source": [
    "#training model\n",
    "from sklearn.tree import DecisionTreeClassifier\n",
    "DT = DecisionTreeClassifier()\n",
    "DT.fit(X_train,y_train)\n",
    "\n",
    "#getting confusion matrix\n",
    "y_pred = DT.predict(X_test)\n",
    "cm = confusion_matrix(y_test,y_pred)\n",
    "print('confusion matrix:\\n',cm)\n",
    "\n",
    "#checking accuracy\n",
    "print('accuracy score = ',accuracy_score(y_test,y_pred))\n",
    "print(\"Classification Report\",classification_report(y_test,y_pred))"
   ]
  },
  {
   "cell_type": "code",
   "execution_count": 63,
   "metadata": {},
   "outputs": [
    {
     "name": "stdout",
     "output_type": "stream",
     "text": [
      "0.9467657214222746\n"
     ]
    },
    {
     "data": {
      "image/png": "[encoded data removed]",
      "text/plain": [
       "<Figure size 432x288 with 1 Axes>"
      ]
     },
     "metadata": {
      "needs_background": "light"
     },
     "output_type": "display_data"
    }
   ],
   "source": [
    "DT_auc = roc_auc_score(y_test, y_pred)\n",
    "print(DT_auc)\n",
    "fpr, tpr, _ = metrics.roc_curve(y_test,  y_pred)\n",
    "\n",
    "#create ROC curve\n",
    "pyplot.plot(fpr,tpr)\n",
    "pyplot.ylabel('True Positive Rate')\n",
    "pyplot.xlabel('False Positive Rate')\n",
    "pyplot.show()"
   ]
  },
  {
   "cell_type": "markdown",
   "metadata": {},
   "source": [
    "#### Decision Tree showed an AUROC= 0.94"
   ]
  },
  {
   "cell_type": "code",
   "execution_count": 64,
   "metadata": {},
   "outputs": [
    {
     "name": "stderr",
     "output_type": "stream",
     "text": [
      "No handles with labels found to put in legend.\n"
     ]
    },
    {
     "name": "stdout",
     "output_type": "stream",
     "text": [
      "Cross-Validation Accuracy Scores [0.92840909 0.9280303  0.95909091 0.95869648 0.96059113]\n"
     ]
    },
    {
     "data": {
      "image/png": "[encoded data removed]",
      "text/plain": [
       "<Figure size 432x288 with 1 Axes>"
      ]
     },
     "metadata": {
      "needs_background": "light"
     },
     "output_type": "display_data"
    }
   ],
   "source": [
    "scores = cross_val_score(DT, X, y, cv=5)\n",
    "print('Cross-Validation Accuracy Scores', scores)\n",
    "\n",
    "plt.plot(range(1,6), scores)\n",
    "plt.xlabel('folds')\n",
    "plt.ylabel('Accuracy')\n",
    "plt.legend();"
   ]
  },
  {
   "cell_type": "code",
   "execution_count": 65,
   "metadata": {},
   "outputs": [
    {
     "data": {
      "text/plain": [
       "(0.928030303030303, 0.9469635823946169, 0.9605911330049262)"
      ]
     },
     "execution_count": 65,
     "metadata": {},
     "output_type": "execute_result"
    }
   ],
   "source": [
    "scores = pd.Series(scores)\n",
    "scores.min(), scores.mean(), scores.max()"
   ]
  },
  {
   "cell_type": "markdown",
   "metadata": {},
   "source": [
    "#### 5 Fold Cross Validation for Decision Tree showed a 94% accuracy "
   ]
  },
  {
   "cell_type": "code",
   "execution_count": 71,
   "metadata": {},
   "outputs": [
    {
     "data": {
      "text/plain": [
       "Text(0.5, 1.0, 'Plotting the Model Accuracies')"
      ]
     },
     "execution_count": 71,
     "metadata": {},
     "output_type": "execute_result"
    },
    {
     "data": {
      "image/png": "[encoded data removed]",
      "text/plain": [
       "<Figure size 576x216 with 1 Axes>"
      ]
     },
     "metadata": {
      "needs_background": "light"
     },
     "output_type": "display_data"
    }
   ],
   "source": [
    "#comparing accuracies\n",
    "plt.figure(figsize= (8,3))\n",
    "name = ['SVM','Random Forest','KNN','Logistic Regression','Decision Tree']\n",
    "sns.barplot(x = ac,y = name,palette='pastel')\n",
    "plt.title(\"Plotting the Model Accuracies\", fontsize=16, fontweight=\"bold\")"
   ]
  },
  {
   "cell_type": "markdown",
   "metadata": {},
   "source": [
    "## Results"
   ]
  },
  {
   "cell_type": "markdown",
   "metadata": {},
   "source": [
    "## KNN showed that it is the best model with an accuracy of 97.5%"
   ]
  }
 ],
 "metadata": {
  "kernelspec": {
   "display_name": "Python 3",
   "language": "python",
   "name": "python3"
  },
  "language_info": {
   "codemirror_mode": {
    "name": "ipython",
    "version": 3
   },
   "file_extension": ".py",
   "mimetype": "text/x-python",
   "name": "python",
   "nbconvert_exporter": "python",
   "pygments_lexer": "ipython3",
   "version": "3.8.5"
  }
 },
 "nbformat": 4,
 "nbformat_minor": 4
}
